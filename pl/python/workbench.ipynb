{
 "cells": [
  {
   "cell_type": "code",
   "execution_count": 5,
   "metadata": {},
   "outputs": [
    {
     "name": "stdout",
     "output_type": "stream",
     "text": [
      "***\n",
      "*****\n",
      "*******\n",
      "*********\n",
      "?\n",
      "A Simple Christmas Tree\n",
      "by Kaitlyn Casimir\n"
     ]
    }
   ],
   "source": [
    "import colorama\n",
    "from colorama import Fore, Style\n",
    "\n",
    "colorama.init(autoreset=True)\n",
    "\n",
    "print(\n",
    "    Fore.RED\n",
    "    + Style.BRIGHT\n",
    "    + \"*\"\n",
    "    + Fore.GREEN\n",
    "    + Style.BRIGHT\n",
    "    + \"*\"\n",
    "    + Fore.MAGENTA\n",
    "    + Style.BRIGHT\n",
    "    + \"*\"\n",
    ")\n",
    "print(\n",
    "    Fore.GREEN\n",
    "    + Style.BRIGHT\n",
    "    + \"*\"\n",
    "    + Fore.BLUE\n",
    "    + Style.BRIGHT\n",
    "    + \"*\"\n",
    "    + Fore.YELLOW\n",
    "    + Style.BRIGHT\n",
    "    + \"*\"\n",
    "    + Fore.CYAN\n",
    "    + Style.BRIGHT\n",
    "    + \"*\"\n",
    "    + Fore.RED\n",
    "    + Style.BRIGHT\n",
    "    + \"*\"\n",
    ")\n",
    "print(\n",
    "    Fore.MAGENTA\n",
    "    + Style.BRIGHT\n",
    "    + \"*\"\n",
    "    + Fore.YELLOW\n",
    "    + Style.BRIGHT\n",
    "    + \"*\"\n",
    "    + Fore.CYAN\n",
    "    + Style.BRIGHT\n",
    "    + \"*\"\n",
    "    + Fore.RED\n",
    "    + Style.BRIGHT\n",
    "    + \"*\"\n",
    "    + Fore.GREEN\n",
    "    + Style.BRIGHT\n",
    "    + \"*\"\n",
    "    + Fore.BLUE\n",
    "    + Style.BRIGHT\n",
    "    + \"*\"\n",
    "    + Fore.MAGENTA\n",
    "    + Style.BRIGHT\n",
    "    + \"*\"\n",
    ")\n",
    "print(\n",
    "    Fore.YELLOW\n",
    "    + Style.BRIGHT\n",
    "    + \"*\"\n",
    "    + Fore.GREEN\n",
    "    + Style.BRIGHT\n",
    "    + \"*\"\n",
    "    + Fore.BLUE\n",
    "    + Style.BRIGHT\n",
    "    + \"*\"\n",
    "    + Fore.GREEN\n",
    "    + Style.BRIGHT\n",
    "    + \"*\"\n",
    "    + Fore.MAGENTA\n",
    "    + Style.BRIGHT\n",
    "    + \"*\"\n",
    "    + Fore.YELLOW\n",
    "    + Style.BRIGHT\n",
    "    + \"*\"\n",
    "    + Fore.RED\n",
    "    + Style.BRIGHT\n",
    "    + \"*\"\n",
    "    + Fore.YELLOW\n",
    "    + Style.BRIGHT\n",
    "    + \"*\"\n",
    "    + Fore.RED\n",
    "    + Style.BRIGHT\n",
    "    + \"*\"\n",
    ")\n",
    "print(\"?\")\n",
    "print(Fore.GREEN + Style.BRIGHT + \"A Simple Christmas Tree\")\n",
    "print(Fore.RED + Style.BRIGHT + \"by Kaitlyn Casimir\")"
   ]
  },
  {
   "cell_type": "code",
   "execution_count": 6,
   "metadata": {},
   "outputs": [
    {
     "data": {
      "text/plain": [
       "'\\x1b[31m'"
      ]
     },
     "execution_count": 6,
     "metadata": {},
     "output_type": "execute_result"
    }
   ],
   "source": [
    "Fore.RED"
   ]
  },
  {
   "cell_type": "code",
   "execution_count": 32,
   "metadata": {},
   "outputs": [],
   "source": [
    "for i in range(10**2):\n",
    "    bn = w3.eth.get_balance(\n",
    "        Web3.to_checksum_address(\"0x40b38765696e3d5d8d9d834d8aad4bb6e418e489\")\n",
    "    )"
   ]
  },
  {
   "cell_type": "code",
   "execution_count": 38,
   "metadata": {},
   "outputs": [
    {
     "data": {
      "text/plain": [
       "False"
      ]
     },
     "execution_count": 38,
     "metadata": {},
     "output_type": "execute_result"
    }
   ],
   "source": [
    "w3 = Web3(Web3.WebsocketProvider(\"wss://69.67.151.138:8645\"))\n",
    "w3.is_connected()"
   ]
  },
  {
   "cell_type": "code",
   "execution_count": 42,
   "metadata": {},
   "outputs": [
    {
     "data": {
      "text/plain": [
       "True"
      ]
     },
     "execution_count": 42,
     "metadata": {},
     "output_type": "execute_result"
    }
   ],
   "source": [
    "w3 = AsyncWeb3(AsyncWeb3.AsyncHTTPProvider(\"http://69.67.151.138:8645\"))\n",
    "await w3.is_connected()"
   ]
  },
  {
   "cell_type": "code",
   "execution_count": 57,
   "metadata": {},
   "outputs": [
    {
     "data": {
      "text/plain": [
       "1493000864335365191698315"
      ]
     },
     "execution_count": 57,
     "metadata": {},
     "output_type": "execute_result"
    }
   ],
   "source": [
    "import asyncio"
   ]
  }
 ],
 "metadata": {
  "kernelspec": {
   "display_name": ".venv",
   "language": "python",
   "name": "python3"
  },
  "language_info": {
   "codemirror_mode": {
    "name": "ipython",
    "version": 3
   },
   "file_extension": ".py",
   "mimetype": "text/x-python",
   "name": "python",
   "nbconvert_exporter": "python",
   "pygments_lexer": "ipython3",
   "version": "3.11.6"
  },
  "orig_nbformat": 4
 },
 "nbformat": 4,
 "nbformat_minor": 2
}

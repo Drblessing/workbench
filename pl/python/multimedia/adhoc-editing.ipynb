{
 "cells": [
  {
   "cell_type": "code",
   "execution_count": 2,
   "metadata": {},
   "outputs": [],
   "source": [
    "# Adhoc media editing\n",
    "import os\n",
    "import sys\n",
    "from pathlib import Path\n",
    "import shutil\n",
    "from mutagen.easyid3 import EasyID3\n",
    "from mutagen.oggvorbis import OggVorbis\n",
    "from mutagen.mp3 import MP3\n",
    "from mutagen.id3 import ID3, APIC\n",
    "from pydub import AudioSegment\n",
    "import logging\n",
    "\n",
    "album_art = Path(\n",
    "    \"/Users/dbless/Library/Mobile Documents/com~apple~CloudDocs/Music/Library/Daniel Blessing the Achiever/Hero's Journey/AlbumArt.jpg\"\n",
    ")\n",
    "\n",
    "mp3_inspiration = Path(\n",
    "    \"/Users/dbless/Library/Mobile Documents/com~apple~CloudDocs/Music/Library/Daniel Blessing the Achiever/Hero's Journey/Inspiration.mp3\"\n",
    ")\n",
    "mp3_quest = Path(\n",
    "    \"/Users/dbless/Library/Mobile Documents/com~apple~CloudDocs/Music/Library/Daniel Blessing the Achiever/Hero's Journey/QuestComplete.mp3\"\n",
    ")\n",
    "\n",
    "# Get mp3_inspirations metadata\n",
    "mp3_inspiration_metadata = EasyID3(mp3_inspiration)\n",
    "# Set Album to \"Hero's Journey\"\n",
    "mp3_inspiration_metadata[\"album\"] = \"Hero's Journey\"\n",
    "# Set genre\n",
    "mp3_inspiration_metadata[\"genre\"] = \"Self-Growth Fantasy\"\n",
    "# Set artist\n",
    "mp3_inspiration_metadata[\"artist\"] = \"Daniel Blessing the Achiever\"\n",
    "\n",
    "\n",
    "mp3_inspiration_metadata.save()\n",
    "\n",
    "# Set album art\n",
    "mp3_inspiration_album_art = MP3(mp3_inspiration, ID3=ID3)\n",
    "mp3_inspiration_album_art.tags.add(\n",
    "    APIC(\n",
    "        encoding=3,  # 3 is for utf-8\n",
    "        mime=\"image/jpeg\",  # image/jpeg or image/png\n",
    "        type=3,  # 3 is for the cover image\n",
    "        desc=\"Cover\",\n",
    "        data=open(album_art, \"rb\").read(),\n",
    "    )\n",
    ")\n",
    "mp3_inspiration_album_art.save()"
   ]
  }
 ],
 "metadata": {
  "kernelspec": {
   "display_name": ".venv",
   "language": "python",
   "name": "python3"
  },
  "language_info": {
   "codemirror_mode": {
    "name": "ipython",
    "version": 3
   },
   "file_extension": ".py",
   "mimetype": "text/x-python",
   "name": "python",
   "nbconvert_exporter": "python",
   "pygments_lexer": "ipython3",
   "version": "3.11.5"
  },
  "orig_nbformat": 4
 },
 "nbformat": 4,
 "nbformat_minor": 2
}

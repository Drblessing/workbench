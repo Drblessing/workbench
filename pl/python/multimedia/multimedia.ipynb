{
 "cells": [
  {
   "cell_type": "code",
   "execution_count": 1,
   "metadata": {},
   "outputs": [
    {
     "name": "stdout",
     "output_type": "stream",
     "text": [
      "Conversion completed!\n"
     ]
    }
   ],
   "source": [
    "from pydub import AudioSegment\n",
    "import os\n",
    "\n",
    "directory_path = \"/Users/dbless/Library/Mobile Documents/com~apple~CloudDocs/Music/Library/Bob Marley - Natty Dread - ogg\"\n",
    "\n",
    "\n",
    "def convert_ogg_directory(directory_path):\n",
    "    \"\"\"Convert all .ogg files in a directory to .mp3 files\"\"\"\n",
    "\n",
    "    # Loop through all files in the directory\n",
    "    for filename in os.listdir(directory_path):\n",
    "        # Check if the file is an .ogg file\n",
    "        if filename.endswith(\".ogg\"):\n",
    "            # Load the .ogg file\n",
    "            sound = AudioSegment.from_ogg(os.path.join(directory_path, filename))\n",
    "\n",
    "            # Convert .ogg to .mp3\n",
    "            sound.export(\n",
    "                os.path.join(directory_path, filename.replace(\".ogg\", \".mp3\")),\n",
    "                format=\"mp3\",\n",
    "                bitrate=\"256k\",\n",
    "            )\n",
    "\n",
    "            # Optionally, if you want to delete the .ogg file after conversion, uncomment the line below\n",
    "            # os.remove(os.path.join(directory_path, filename))\n",
    "\n",
    "\n",
    "print(\"Conversion completed!\")"
   ]
  },
  {
   "cell_type": "code",
   "execution_count": null,
   "metadata": {},
   "outputs": [],
   "source": [
    "import os\n",
    "import eyed3\n",
    "\n",
    "\n",
    "def set_metadata(directory_path, artist, album, album_art_path, track_number):\n",
    "    for filename in os.listdir(directory_path):\n",
    "        if filename.endswith(\".mp3\"):\n",
    "            mp3_file_path = os.path.join(directory_path, filename)\n",
    "\n",
    "            # Load the .mp3 file\n",
    "            audiofile = eyed3.load(mp3_file_path)\n",
    "\n",
    "            # Check if it has any tag. If not, initialize a new one\n",
    "            if audiofile.tag is None:\n",
    "                audiofile.initTag()\n",
    "\n",
    "            # Clear all tags\n",
    "            audiofile.tag.clear()\n",
    "\n",
    "            # Set the desired metadata\n",
    "            audiofile.tag.artist = artist\n",
    "            audiofile.tag.album = album\n",
    "            audiofile.tag.track_num = track_number\n",
    "\n",
    "            # Set album art\n",
    "            with open(album_art_path, \"rb\") as img_file:\n",
    "                audiofile.tag.images.set(\n",
    "                    3, img_file.read(), \"image/jpeg\"\n",
    "                )  # 3 means it's the album cover\n",
    "\n",
    "            # Save the modified tags\n",
    "            audiofile.tag.save()\n",
    "\n",
    "\n",
    "directory = \"/path/to/your/directory\"\n",
    "artist_name = \"Your Artist Name\"\n",
    "album_name = \"Your Album Name\"\n",
    "album_art_file_path = \"/path/to/your/album/art.jpg\"\n",
    "track_number = (1, 10)  # This means track 1 of 10 total tracks\n",
    "\n",
    "set_metadata(directory, artist_name, album_name, album_art_file_path, track_number)"
   ]
  }
 ],
 "metadata": {
  "kernelspec": {
   "display_name": ".venv",
   "language": "python",
   "name": "python3"
  },
  "language_info": {
   "codemirror_mode": {
    "name": "ipython",
    "version": 3
   },
   "file_extension": ".py",
   "mimetype": "text/x-python",
   "name": "python",
   "nbconvert_exporter": "python",
   "pygments_lexer": "ipython3",
   "version": "3.11.5"
  },
  "orig_nbformat": 4
 },
 "nbformat": 4,
 "nbformat_minor": 2
}

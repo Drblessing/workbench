{
 "cells": [
  {
   "cell_type": "code",
   "execution_count": 7,
   "metadata": {},
   "outputs": [
    {
     "name": "stdout",
     "output_type": "stream",
     "text": [
      "Converting Frank Sinatra My Way - ogg\n",
      "Converting complete\n"
     ]
    }
   ],
   "source": [
    "# Handling multimedia\n",
    "# Convert ogg to mp3\n",
    "from pydub import AudioSegment\n",
    "import os\n",
    "\n",
    "directory_path = \"/Users/dbless/Downloads/asdfv80z\"\n",
    "\n",
    "\n",
    "def convert_ogg_directory(directory_path):\n",
    "    \"\"\"Convert all .ogg files in a directory to .mp3 files\"\"\"\n",
    "\n",
    "    # Loop through all files in the directory\n",
    "    for filename in os.listdir(directory_path):\n",
    "        # Check if the file is an .ogg file\n",
    "        if filename.endswith(\".ogg\"):\n",
    "            # Load the .ogg file\n",
    "            sound = AudioSegment.from_ogg(os.path.join(directory_path, filename))\n",
    "\n",
    "            # Convert .ogg to .mp3\n",
    "            sound.export(\n",
    "                os.path.join(directory_path, filename.replace(\".ogg\", \".mp3\")),\n",
    "                format=\"mp3\",\n",
    "                bitrate=\"256k\",\n",
    "            )\n",
    "\n",
    "            # Optionally, if you want to delete the .ogg file after conversion, uncomment the line below\n",
    "            # os.remove(os.path.join(directory_path, filename))\n",
    "\n",
    "\n",
    "# Get album name from last folder\n",
    "album_name = directory_path.split(\"/\")[-1]\n",
    "artist_name = directory_path.split(\"/\")[-2]\n",
    "\n",
    "print(f\"Converting {artist_name} {album_name}\")\n",
    "convert_ogg_directory(directory_path)\n",
    "print(f\"Converting complete\")"
   ]
  },
  {
   "cell_type": "code",
   "execution_count": 8,
   "metadata": {},
   "outputs": [],
   "source": [
    "# Fix mp3 metadata and filename\n",
    "import os\n",
    "import eyed3\n",
    "\n",
    "directory_path = \"/Users/dbless/Downloads/asdfv80z\"\n",
    "\n",
    "# Read Ogg met"
   ]
  }
 ],
 "metadata": {
  "kernelspec": {
   "display_name": ".venv",
   "language": "python",
   "name": "python3"
  },
  "language_info": {
   "codemirror_mode": {
    "name": "ipython",
    "version": 3
   },
   "file_extension": ".py",
   "mimetype": "text/x-python",
   "name": "python",
   "nbconvert_exporter": "python",
   "pygments_lexer": "ipython3",
   "version": "3.11.5"
  },
  "orig_nbformat": 4
 },
 "nbformat": 4,
 "nbformat_minor": 2
}

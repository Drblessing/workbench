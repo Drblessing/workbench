{
 "cells": [
  {
   "cell_type": "code",
   "execution_count": 7,
   "metadata": {},
   "outputs": [
    {
     "name": "stdout",
     "output_type": "stream",
     "text": [
      "Converting Frank Sinatra My Way - ogg\n",
      "Converting complete\n"
     ]
    }
   ],
   "source": [
    "# Handling multimedia\n",
    "# Convert ogg to mp3\n",
    "from pydub import AudioSegment\n",
    "import os\n",
    "\n",
    "directory_path = \"/Users/dbless/Downloads/asdfv80z\"\n",
    "\n",
    "\n",
    "def convert_ogg_directory(directory_path):\n",
    "    \"\"\"Convert all .ogg files in a directory to .mp3 files\"\"\"\n",
    "\n",
    "    # Loop through all files in the directory\n",
    "    for filename in os.listdir(directory_path):\n",
    "        # Check if the file is an .ogg file\n",
    "        if filename.endswith(\".ogg\"):\n",
    "            # Load the .ogg file\n",
    "            sound = AudioSegment.from_ogg(os.path.join(directory_path, filename))\n",
    "\n",
    "            # Convert .ogg to .mp3\n",
    "            sound.export(\n",
    "                os.path.join(directory_path, filename.replace(\".ogg\", \".mp3\")),\n",
    "                format=\"mp3\",\n",
    "                bitrate=\"256k\",\n",
    "            )\n",
    "\n",
    "            # Optionally, if you want to delete the .ogg file after conversion, uncomment the line below\n",
    "            # os.remove(os.path.join(directory_path, filename))\n",
    "        # Check if file is a txt file\n",
    "        elif filename.endswith(\".txt\"):\n",
    "            # Delete it\n",
    "            os.remove(os.path.join(directory_path, filename))\n",
    "\n",
    "\n",
    "# Get album name from last folder\n",
    "album_name = directory_path.split(\"/\")[-1]\n",
    "artist_name = directory_path.split(\"/\")[-2]\n",
    "\n",
    "print(f\"Converting {artist_name} {album_name}\")\n",
    "convert_ogg_directory(directory_path)\n",
    "print(f\"Converting complete\")"
   ]
  },
  {
   "cell_type": "code",
   "execution_count": 13,
   "metadata": {},
   "outputs": [
    {
     "data": {
      "text/plain": [
       "PosixPath('/Users/dbless/Downloads/asdfv80')"
      ]
     },
     "execution_count": 13,
     "metadata": {},
     "output_type": "execute_result"
    }
   ],
   "source": [
    "from pathlib import Path\n",
    "\n",
    "\n",
    "path = Path(\"/Users/dbless/Downloads/asdfv80\")\n",
    "\n",
    "path"
   ]
  },
  {
   "cell_type": "code",
   "execution_count": 10,
   "metadata": {},
   "outputs": [
    {
     "name": "stdout",
     "output_type": "stream",
     "text": [
      "{'album': ['The World We Knew'], 'title': [\"Somethin' Stupid\"], 'encoder': ['Lavf58.45.100'], 'artist': ['Frank Sinatra'], 'date': ['Tue Aug 01 1967 03:00:00 GMT+0300 (Moscow Standard Time)'], 'tracknumber': ['2'], 'discnumber': ['1']}\n",
      "{'album': ['The World We Knew'], 'title': ['This Is My Song'], 'encoder': ['Lavf58.45.100'], 'artist': ['Frank Sinatra'], 'date': ['Tue Aug 01 1967 03:00:00 GMT+0300 (Moscow Standard Time)'], 'tracknumber': ['7'], 'discnumber': ['1']}\n",
      "{'album': ['The World We Knew'], 'title': ['Drinking Again'], 'encoder': ['Lavf58.45.100'], 'artist': ['Frank Sinatra'], 'date': ['Tue Aug 01 1967 03:00:00 GMT+0300 (Moscow Standard Time)'], 'tracknumber': ['9'], 'discnumber': ['1']}\n",
      "{'album': ['The World We Knew'], 'title': ['The World We Knew (Over And Over)'], 'encoder': ['Lavf58.45.100'], 'artist': ['Frank Sinatra'], 'date': ['Tue Aug 01 1967 03:00:00 GMT+0300 (Moscow Standard Time)'], 'tracknumber': ['1'], 'discnumber': ['1']}\n",
      "{'album': ['The World We Knew'], 'title': ['This Is My Love'], 'encoder': ['Lavf58.45.100'], 'artist': ['Frank Sinatra'], 'date': ['Tue Aug 01 1967 03:00:00 GMT+0300 (Moscow Standard Time)'], 'tracknumber': ['3'], 'discnumber': ['1']}\n",
      "{'album': ['The World We Knew'], 'title': [\"Don't Sleep In The Subway\"], 'encoder': ['Lavf58.45.100'], 'artist': ['Frank Sinatra'], 'date': ['Tue Aug 01 1967 03:00:00 GMT+0300 (Moscow Standard Time)'], 'tracknumber': ['5'], 'discnumber': ['1']}\n",
      "{'album': ['The World We Knew'], 'title': ['This Town'], 'encoder': ['Lavf58.45.100'], 'artist': ['Frank Sinatra'], 'date': ['Tue Aug 01 1967 03:00:00 GMT+0300 (Moscow Standard Time)'], 'tracknumber': ['6'], 'discnumber': ['1']}\n",
      "{'album': ['The World We Knew'], 'title': ['Some Enchanted Evening'], 'encoder': ['Lavf58.45.100'], 'artist': ['Frank Sinatra'], 'date': ['Tue Aug 01 1967 03:00:00 GMT+0300 (Moscow Standard Time)'], 'tracknumber': ['10'], 'discnumber': ['1']}\n",
      "{'album': ['The World We Knew'], 'title': ['You Are There'], 'encoder': ['Lavf58.45.100'], 'artist': ['Frank Sinatra'], 'date': ['Tue Aug 01 1967 03:00:00 GMT+0300 (Moscow Standard Time)'], 'tracknumber': ['8'], 'discnumber': ['1']}\n",
      "{'album': ['The World We Knew'], 'title': ['Born Free'], 'encoder': ['Lavf58.45.100'], 'artist': ['Frank Sinatra'], 'date': ['Tue Aug 01 1967 03:00:00 GMT+0300 (Moscow Standard Time)'], 'tracknumber': ['4'], 'discnumber': ['1']}\n",
      "Album and artist name is consistent.\n",
      "Album name: The World We Knew\n",
      "Artist name: Frank Sinatra\n"
     ]
    }
   ],
   "source": [
    "# Fix mp3 metadata and filename\n",
    "import os\n",
    "from mutagen.oggvorbis import OggVorbis\n",
    "\n",
    "directory_path = \"/Users/dbless/Downloads/asdfv80z\"\n",
    "\n",
    "# Read OGG metadata\n",
    "album = set()\n",
    "artist = set()\n",
    "for filename in os.listdir(directory_path):\n",
    "    if filename.endswith(\".ogg\"):\n",
    "        ogg_file_path = os.path.join(directory_path, filename)\n",
    "        ogg_metadata = OggVorbis(ogg_file_path)\n",
    "        album.add(ogg_metadata[\"album\"][0])\n",
    "        artist.add(ogg_metadata[\"artist\"][0])\n",
    "\n",
    "        print(ogg_metadata)\n",
    "\n",
    "# Check if album name is consistent\n",
    "if len(album) > 1:\n",
    "    print(\"Album name is inconsistent.\")\n",
    "    print(album)\n",
    "    raise Exception(\"Album name is inconsistent.\")\n",
    "\n",
    "# Check if artist name is consistent\n",
    "if len(artist) > 1:\n",
    "    print(\"Artist name is inconsistent.\")\n",
    "    print(artist)\n",
    "    raise Exception(\"Artist name is inconsistent.\")\n",
    "\n",
    "print(\"Album and artist name is consistent.\")\n",
    "print(f\"Album name: {album.pop()}\")\n",
    "print(f\"Artist name: {artist.pop()}\")"
   ]
  }
 ],
 "metadata": {
  "kernelspec": {
   "display_name": ".venv",
   "language": "python",
   "name": "python3"
  },
  "language_info": {
   "codemirror_mode": {
    "name": "ipython",
    "version": 3
   },
   "file_extension": ".py",
   "mimetype": "text/x-python",
   "name": "python",
   "nbconvert_exporter": "python",
   "pygments_lexer": "ipython3",
   "version": "3.11.5"
  },
  "orig_nbformat": 4
 },
 "nbformat": 4,
 "nbformat_minor": 2
}

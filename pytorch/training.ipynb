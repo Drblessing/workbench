{
 "cells": [
  {
   "cell_type": "code",
   "execution_count": 1,
   "metadata": {},
   "outputs": [
    {
     "name": "stdout",
     "output_type": "stream",
     "text": [
      "Training set has 60000 instances\n",
      "Validation set has 10000 instances\n"
     ]
    }
   ],
   "source": [
    "import torch\n",
    "import torchvision\n",
    "import torchvision.transforms as transforms\n",
    "import os\n",
    "import sys\n",
    "\n",
    "# PyTorch TensorBoard support\n",
    "from torch.utils.tensorboard import SummaryWriter\n",
    "from datetime import datetime\n",
    "\n",
    "\n",
    "transform = transforms.Compose(\n",
    "    [transforms.ToTensor(), transforms.Normalize((0.5,), (0.5,))]\n",
    ")\n",
    "\n",
    "# Create datasets for training & validation, download if necessary\n",
    "training_set = torchvision.datasets.FashionMNIST(\n",
    "    \"./data\", train=True, transform=transform, download=True\n",
    ")\n",
    "validation_set = torchvision.datasets.FashionMNIST(\n",
    "    \"./data\", train=False, transform=transform, download=True\n",
    ")\n",
    "\n",
    "# Create data loaders for our datasets; shuffle for training, not for validation\n",
    "training_loader = torch.utils.data.DataLoader(training_set, batch_size=4, shuffle=True)\n",
    "validation_loader = torch.utils.data.DataLoader(\n",
    "    validation_set, batch_size=4, shuffle=False\n",
    ")\n",
    "\n",
    "# Class labels\n",
    "classes = (\n",
    "    \"T-shirt/top\",\n",
    "    \"Trouser\",\n",
    "    \"Pullover\",\n",
    "    \"Dress\",\n",
    "    \"Coat\",\n",
    "    \"Sandal\",\n",
    "    \"Shirt\",\n",
    "    \"Sneaker\",\n",
    "    \"Bag\",\n",
    "    \"Ankle Boot\",\n",
    ")\n",
    "\n",
    "# Report split sizes\n",
    "print(\"Training set has {} instances\".format(len(training_set)))\n",
    "print(\"Validation set has {} instances\".format(len(validation_set)))"
   ]
  },
  {
   "cell_type": "code",
   "execution_count": 2,
   "metadata": {},
   "outputs": [
    {
     "name": "stdout",
     "output_type": "stream",
     "text": [
      "Bag  T-shirt/top  T-shirt/top  Sneaker\n"
     ]
    },
    {
     "data": {
      "image/png": "[encoded data removed]",
      "text/plain": [
       "<Figure size 640x480 with 1 Axes>"
      ]
     },
     "metadata": {},
     "output_type": "display_data"
    }
   ],
   "source": [
    "import matplotlib.pyplot as plt\n",
    "import numpy as np\n",
    "import os\n",
    "\n",
    "\n",
    "# Helper function for inline image display\n",
    "def matplotlib_imshow(img, one_channel=False):\n",
    "    if one_channel:\n",
    "        img = img.mean(dim=0)\n",
    "    img = img / 2 + 0.5  # unnormalize\n",
    "    npimg = img.numpy()\n",
    "    if one_channel:\n",
    "        plt.imshow(npimg, cmap=\"Greys\")\n",
    "    else:\n",
    "        plt.imshow(np.transpose(npimg, (1, 2, 0)))\n",
    "\n",
    "\n",
    "dataiter = iter(training_loader)\n",
    "images, labels = next(dataiter)\n",
    "\n",
    "# Create a grid from the images and show them\n",
    "img_grid = torchvision.utils.make_grid(images)\n",
    "matplotlib_imshow(img_grid, one_channel=True)\n",
    "print(\"  \".join(classes[labels[j]] for j in range(4)))"
   ]
  },
  {
   "cell_type": "code",
   "execution_count": 3,
   "metadata": {},
   "outputs": [],
   "source": [
    "import torch.nn as nn\n",
    "import torch.nn.functional as F\n",
    "\n",
    "\n",
    "# PyTorch models inherit from torch.nn.Module\n",
    "class GarmentClassifier(nn.Module):\n",
    "    def __init__(self):\n",
    "        super(GarmentClassifier, self).__init__()\n",
    "        self.conv1 = nn.Conv2d(1, 6, 5)\n",
    "        self.pool = nn.MaxPool2d(2, 2)\n",
    "        self.conv2 = nn.Conv2d(6, 16, 5)\n",
    "        self.fc1 = nn.Linear(16 * 4 * 4, 120)\n",
    "        self.fc2 = nn.Linear(120, 84)\n",
    "        self.fc3 = nn.Linear(84, 10)\n",
    "\n",
    "    def forward(self, x):\n",
    "        x = self.pool(F.relu(self.conv1(x)))\n",
    "        x = self.pool(F.relu(self.conv2(x)))\n",
    "        x = x.view(-1, 16 * 4 * 4)\n",
    "        x = F.relu(self.fc1(x))\n",
    "        x = F.relu(self.fc2(x))\n",
    "        x = self.fc3(x)\n",
    "        return x\n",
    "\n",
    "\n",
    "model = GarmentClassifier()"
   ]
  },
  {
   "cell_type": "code",
   "execution_count": 4,
   "metadata": {},
   "outputs": [
    {
     "name": "stdout",
     "output_type": "stream",
     "text": [
      "tensor([[0.2027, 0.7758, 0.6546, 0.1958, 0.5616, 0.3228, 0.5294, 0.6439, 0.4413,\n",
      "         0.8575],\n",
      "        [0.6791, 0.4908, 0.8207, 0.2844, 0.9835, 0.8749, 0.4199, 0.9499, 0.4359,\n",
      "         0.1692],\n",
      "        [0.2053, 0.2992, 0.0452, 0.6575, 0.6060, 0.2871, 0.1260, 0.5735, 0.8795,\n",
      "         0.0504],\n",
      "        [0.8608, 0.8139, 0.2919, 0.9300, 0.1749, 0.4036, 0.3547, 0.0137, 0.2055,\n",
      "         0.9752]])\n",
      "tensor([1, 5, 3, 7])\n",
      "Total loss for this batch: 2.2622978687286377\n"
     ]
    }
   ],
   "source": [
    "loss_fn = torch.nn.CrossEntropyLoss()\n",
    "\n",
    "# NB: Loss functions expect data in batches, so we're creating batches of 4\n",
    "# Represents the model's confidence in each of the 10 classes for a given input\n",
    "dummy_outputs = torch.rand(4, 10)\n",
    "# Represents the correct class among the 10 being tested\n",
    "dummy_labels = torch.tensor([1, 5, 3, 7])\n",
    "\n",
    "print(dummy_outputs)\n",
    "print(dummy_labels)\n",
    "\n",
    "loss = loss_fn(dummy_outputs, dummy_labels)\n",
    "print(\"Total loss for this batch: {}\".format(loss.item()))"
   ]
  },
  {
   "cell_type": "code",
   "execution_count": 5,
   "metadata": {},
   "outputs": [
    {
     "name": "stdout",
     "output_type": "stream",
     "text": [
      "tensor([[0.6427, 0.4298, 0.0531, 0.0839, 0.1472, 0.8676, 0.2368, 0.2266, 0.0930,\n",
      "         0.2592],\n",
      "        [0.5943, 0.3848, 0.5141, 0.8261, 0.0922, 0.7567, 0.2753, 0.0226, 0.2337,\n",
      "         0.1361],\n",
      "        [0.5198, 0.8723, 0.5681, 0.0036, 0.3890, 0.7835, 0.6871, 0.5855, 0.8538,\n",
      "         0.6751],\n",
      "        [0.0535, 0.8885, 0.7345, 0.6023, 0.8336, 0.6804, 0.1691, 0.1500, 0.2333,\n",
      "         0.0490]])\n",
      "tensor([1, 5, 3, 7])\n",
      "Total loss for this batch: 2.4350783824920654\n"
     ]
    }
   ],
   "source": [
    "loss_fn = torch.nn.CrossEntropyLoss()\n",
    "\n",
    "# NB: Loss functions expect data in batches, so we're creating batches of 4\n",
    "# Represents the model's confidence in each of the 10 classes for a given input\n",
    "dummy_outputs = torch.rand(4, 10)\n",
    "# Represents the correct class among the 10 being tested\n",
    "dummy_labels = torch.tensor([1, 5, 3, 7])\n",
    "\n",
    "print(dummy_outputs)\n",
    "print(dummy_labels)\n",
    "\n",
    "loss = loss_fn(dummy_outputs, dummy_labels)\n",
    "print(\"Total loss for this batch: {}\".format(loss.item()))"
   ]
  },
  {
   "cell_type": "code",
   "execution_count": 6,
   "metadata": {},
   "outputs": [],
   "source": [
    "# Optimizers specified in the torch.optim package\n",
    "optimizer = torch.optim.SGD(model.parameters(), lr=0.001, momentum=0.9)"
   ]
  },
  {
   "cell_type": "code",
   "execution_count": 7,
   "metadata": {},
   "outputs": [],
   "source": [
    "def train_one_epoch(epoch_index, tb_writer):\n",
    "    running_loss = 0.0\n",
    "    last_loss = 0.0\n",
    "\n",
    "    # Here, we use enumerate(training_loader) instead of\n",
    "    # iter(training_loader) so that we can track the batch\n",
    "    # index and do some intra-epoch reporting\n",
    "    for i, data in enumerate(training_loader):\n",
    "        # Every data instance is an input + label pair\n",
    "        inputs, labels = data\n",
    "\n",
    "        # Zero your gradients for every batch!\n",
    "        optimizer.zero_grad()\n",
    "\n",
    "        # Make predictions for this batch\n",
    "        outputs = model(inputs)\n",
    "\n",
    "        # Compute the loss and its gradients\n",
    "        loss = loss_fn(outputs, labels)\n",
    "        loss.backward()\n",
    "\n",
    "        # Adjust learning weights\n",
    "        optimizer.step()\n",
    "\n",
    "        # Gather data and report\n",
    "        running_loss += loss.item()\n",
    "        if i % 1000 == 999:\n",
    "            last_loss = running_loss / 1000  # loss per batch\n",
    "            print(\"  batch {} loss: {}\".format(i + 1, last_loss))\n",
    "            tb_x = epoch_index * len(training_loader) + i + 1\n",
    "            tb_writer.add_scalar(f\"Loss/train\", last_loss, tb_x)\n",
    "            running_loss = 0.0\n",
    "\n",
    "    return last_loss"
   ]
  },
  {
   "cell_type": "code",
   "execution_count": 8,
   "metadata": {},
   "outputs": [
    {
     "name": "stdout",
     "output_type": "stream",
     "text": [
      "EPOCH 1:\n",
      "  batch 1000 loss: 1.71890797868371\n",
      "  batch 2000 loss: 0.8410614807754755\n",
      "  batch 3000 loss: 0.7341669770665467\n",
      "  batch 4000 loss: 0.6507931683054193\n",
      "  batch 5000 loss: 0.5982694115387276\n",
      "  batch 6000 loss: 0.5795191136083159\n",
      "  batch 7000 loss: 0.5587598901305464\n",
      "  batch 8000 loss: 0.5120745292429346\n",
      "  batch 9000 loss: 0.5078222500344854\n",
      "  batch 10000 loss: 0.4637909776595188\n",
      "  batch 11000 loss: 0.4648534555595834\n",
      "  batch 12000 loss: 0.445894681220816\n",
      "  batch 13000 loss: 0.45029449728457255\n",
      "  batch 14000 loss: 0.4205620481822407\n",
      "  batch 15000 loss: 0.43219483105896506\n",
      "LOSS train 0.43219483105896506 valid 0.4624616801738739\n",
      "EPOCH 2:\n",
      "  batch 1000 loss: 0.4190816942504607\n",
      "  batch 2000 loss: 0.42125759257911705\n",
      "  batch 3000 loss: 0.38344478900998363\n",
      "  batch 4000 loss: 0.3982890654265648\n",
      "  batch 5000 loss: 0.37910360554099315\n",
      "  batch 6000 loss: 0.3976631571915932\n",
      "  batch 7000 loss: 0.38256783194339367\n",
      "  batch 8000 loss: 0.369309157315176\n",
      "  batch 9000 loss: 0.3680702534214943\n",
      "  batch 10000 loss: 0.3495983114922419\n",
      "  batch 11000 loss: 0.3713731359151134\n",
      "  batch 12000 loss: 0.34565558457688894\n",
      "  batch 13000 loss: 0.35581261797946356\n",
      "  batch 14000 loss: 0.3358490452132828\n",
      "  batch 15000 loss: 0.3622206840161707\n",
      "LOSS train 0.3622206840161707 valid 0.37543052434921265\n",
      "EPOCH 3:\n",
      "  batch 1000 loss: 0.3424150559982227\n",
      "  batch 2000 loss: 0.332877546220232\n",
      "  batch 3000 loss: 0.32732155472712476\n",
      "  batch 4000 loss: 0.32235826795737377\n",
      "  batch 5000 loss: 0.33845333558737184\n",
      "  batch 6000 loss: 0.3236136619267054\n",
      "  batch 7000 loss: 0.3189331544121669\n",
      "  batch 8000 loss: 0.3302389020587871\n",
      "  batch 9000 loss: 0.3307564376797527\n",
      "  batch 10000 loss: 0.3209757764626411\n",
      "  batch 11000 loss: 0.33103677162740497\n",
      "  batch 12000 loss: 0.3254020429418888\n",
      "  batch 13000 loss: 0.33219014009276\n",
      "  batch 14000 loss: 0.30972594318240226\n",
      "  batch 15000 loss: 0.32545014864905536\n",
      "LOSS train 0.32545014864905536 valid 0.3256344199180603\n",
      "EPOCH 4:\n",
      "  batch 1000 loss: 0.2975227780807836\n",
      "  batch 2000 loss: 0.3366216703563987\n",
      "  batch 3000 loss: 0.29292755181916075\n",
      "  batch 4000 loss: 0.3076336345742311\n",
      "  batch 5000 loss: 0.2991366926938717\n",
      "  batch 6000 loss: 0.2952278020546291\n",
      "  batch 7000 loss: 0.2850997364417999\n",
      "  batch 8000 loss: 0.29706934510264543\n",
      "  batch 9000 loss: 0.28881394201699007\n",
      "  batch 10000 loss: 0.2888835334283722\n",
      "  batch 11000 loss: 0.29900816500729704\n",
      "  batch 12000 loss: 0.3275882575546857\n",
      "  batch 13000 loss: 0.27824069290354964\n",
      "  batch 14000 loss: 0.3070584668958436\n",
      "  batch 15000 loss: 0.2962032337341952\n",
      "LOSS train 0.2962032337341952 valid 0.3303827941417694\n",
      "EPOCH 5:\n",
      "  batch 1000 loss: 0.2851215327882819\n",
      "  batch 2000 loss: 0.276573536117281\n",
      "  batch 3000 loss: 0.2752948229030517\n",
      "  batch 4000 loss: 0.2837077984501811\n",
      "  batch 5000 loss: 0.270312667030933\n",
      "  batch 6000 loss: 0.2750186862064329\n",
      "  batch 7000 loss: 0.2755891343676194\n",
      "  batch 8000 loss: 0.29180126116998145\n",
      "  batch 9000 loss: 0.2997606594602112\n",
      "  batch 10000 loss: 0.28975987542167786\n",
      "  batch 11000 loss: 0.27316545620532634\n",
      "  batch 12000 loss: 0.28062729151034727\n",
      "  batch 13000 loss: 0.2760099354147969\n",
      "  batch 14000 loss: 0.3004897643560107\n",
      "  batch 15000 loss: 0.27934089888104063\n",
      "LOSS train 0.27934089888104063 valid 0.30657699704170227\n"
     ]
    }
   ],
   "source": [
    "# Initializing in a separate cell so we can easily add more epochs to the same run\n",
    "timestamp = datetime.now().strftime(\"%Y%m%d_%H%M%S\")\n",
    "writer = SummaryWriter(\"logs/fashion_trainer_{}\".format(timestamp))\n",
    "epoch_number = 0\n",
    "\n",
    "EPOCHS = 5\n",
    "\n",
    "best_vloss = 1_000_000.0\n",
    "\n",
    "for epoch in range(EPOCHS):\n",
    "    print(\"EPOCH {}:\".format(epoch_number + 1))\n",
    "\n",
    "    # Make sure gradient tracking is on, and do a pass over the data\n",
    "    model.train(True)\n",
    "    avg_loss = train_one_epoch(epoch_number, writer)\n",
    "\n",
    "    running_vloss = 0.0\n",
    "    # Set the model to evaluation mode, disabling dropout and using population\n",
    "    # statistics for batch normalization.\n",
    "    model.eval()\n",
    "\n",
    "    # Disable gradient computation and reduce memory consumption.\n",
    "    with torch.no_grad():\n",
    "        for i, vdata in enumerate(validation_loader):\n",
    "            vinputs, vlabels = vdata\n",
    "            voutputs = model(vinputs)\n",
    "            vloss = loss_fn(voutputs, vlabels)\n",
    "            running_vloss += vloss\n",
    "\n",
    "    avg_vloss = running_vloss / (i + 1)\n",
    "    print(\"LOSS train {} valid {}\".format(avg_loss, avg_vloss))\n",
    "\n",
    "    # Log the running loss averaged per batch\n",
    "    # for both training and validation\n",
    "    writer.add_scalars(\n",
    "        \"Training vs. Validation Loss\",\n",
    "        {\"Training\": avg_loss, \"Validation\": avg_vloss},\n",
    "        epoch_number + 1,\n",
    "    )\n",
    "    writer.flush()\n",
    "\n",
    "    # Track best performance, and save the model's state\n",
    "    if avg_vloss < best_vloss:\n",
    "        best_vloss = avg_vloss\n",
    "        model_path = \"model_{}_{}\".format(timestamp, epoch_number)\n",
    "        # make models dir\n",
    "        os.makedirs(\"models\", exist_ok=True)\n",
    "        # prepend model to model_path\n",
    "        model_path = os.path.join(\"models\", model_path)\n",
    "        torch.save(model.state_dict(), model_path)\n",
    "\n",
    "    epoch_number += 1"
   ]
  },
  {
   "cell_type": "code",
   "execution_count": 9,
   "metadata": {},
   "outputs": [
    {
     "data": {
      "text/plain": [
       "<All keys matched successfully>"
      ]
     },
     "execution_count": 9,
     "metadata": {},
     "output_type": "execute_result"
    }
   ],
   "source": [
    "saved_model = GarmentClassifier()\n",
    "saved_model.load_state_dict(torch.load(\"models/model_20230715_151041_4\"))"
   ]
  },
  {
   "cell_type": "code",
   "execution_count": 10,
   "metadata": {},
   "outputs": [
    {
     "ename": "AttributeError",
     "evalue": "module 'matplotlib.cbook' has no attribute '_rename_parameter'",
     "output_type": "error",
     "traceback": [
      "\u001b[0;31m---------------------------------------------------------------------------\u001b[0m",
      "\u001b[0;31mAttributeError\u001b[0m                            Traceback (most recent call last)",
      "Cell \u001b[0;32mIn[10], line 6\u001b[0m\n\u001b[1;32m      3\u001b[0m \u001b[39mimport\u001b[39;00m \u001b[39mtorchvision\u001b[39;00m\u001b[39m.\u001b[39;00m\u001b[39mtransforms\u001b[39;00m \u001b[39mas\u001b[39;00m \u001b[39mtransforms\u001b[39;00m\n\u001b[1;32m      4\u001b[0m \u001b[39mimport\u001b[39;00m \u001b[39mtorchvision\u001b[39;00m\u001b[39m.\u001b[39;00m\u001b[39mmodels\u001b[39;00m \u001b[39mas\u001b[39;00m \u001b[39mmodels\u001b[39;00m\n\u001b[0;32m----> 6\u001b[0m \u001b[39mimport\u001b[39;00m \u001b[39mcaptum\u001b[39;00m\n\u001b[1;32m      7\u001b[0m \u001b[39mfrom\u001b[39;00m \u001b[39mcaptum\u001b[39;00m\u001b[39m.\u001b[39;00m\u001b[39mattr\u001b[39;00m \u001b[39mimport\u001b[39;00m IntegratedGradients, Occlusion, LayerGradCam, LayerAttribution\n\u001b[1;32m      8\u001b[0m \u001b[39mfrom\u001b[39;00m \u001b[39mcaptum\u001b[39;00m\u001b[39m.\u001b[39;00m\u001b[39mattr\u001b[39;00m \u001b[39mimport\u001b[39;00m visualization \u001b[39mas\u001b[39;00m viz\n",
      "File \u001b[0;32m~/Github/workbench/pytorch/.ml_venv/lib/python3.10/site-packages/captum/__init__.py:2\u001b[0m\n\u001b[1;32m      1\u001b[0m \u001b[39m#!/usr/bin/env python3\u001b[39;00m\n\u001b[0;32m----> 2\u001b[0m \u001b[39mimport\u001b[39;00m \u001b[39mcaptum\u001b[39;00m\u001b[39m.\u001b[39;00m\u001b[39mattr\u001b[39;00m \u001b[39mas\u001b[39;00m \u001b[39mattr\u001b[39;00m  \u001b[39m# noqa\u001b[39;00m\n\u001b[1;32m      3\u001b[0m \u001b[39mimport\u001b[39;00m \u001b[39mcaptum\u001b[39;00m\u001b[39m.\u001b[39;00m\u001b[39mconcept\u001b[39;00m \u001b[39mas\u001b[39;00m \u001b[39mconcept\u001b[39;00m  \u001b[39m# noqa\u001b[39;00m\n\u001b[1;32m      4\u001b[0m \u001b[39mimport\u001b[39;00m \u001b[39mcaptum\u001b[39;00m\u001b[39m.\u001b[39;00m\u001b[39minfluence\u001b[39;00m \u001b[39mas\u001b[39;00m \u001b[39minfluence\u001b[39;00m  \u001b[39m# noqa\u001b[39;00m\n",
      "File \u001b[0;32m~/Github/workbench/pytorch/.ml_venv/lib/python3.10/site-packages/captum/attr/__init__.py:60\u001b[0m\n\u001b[1;32m     53\u001b[0m \u001b[39mfrom\u001b[39;00m \u001b[39mcaptum\u001b[39;00m\u001b[39m.\u001b[39;00m\u001b[39mattr\u001b[39;00m\u001b[39m.\u001b[39;00m\u001b[39m_core\u001b[39;00m\u001b[39m.\u001b[39;00m\u001b[39mshapley_value\u001b[39;00m \u001b[39mimport\u001b[39;00m ShapleyValues, ShapleyValueSampling  \u001b[39m# noqa\u001b[39;00m\n\u001b[1;32m     54\u001b[0m \u001b[39mfrom\u001b[39;00m \u001b[39mcaptum\u001b[39;00m\u001b[39m.\u001b[39;00m\u001b[39mattr\u001b[39;00m\u001b[39m.\u001b[39;00m\u001b[39m_models\u001b[39;00m\u001b[39m.\u001b[39;00m\u001b[39mbase\u001b[39;00m \u001b[39mimport\u001b[39;00m (  \u001b[39m# noqa\u001b[39;00m\n\u001b[1;32m     55\u001b[0m     configure_interpretable_embedding_layer,\n\u001b[1;32m     56\u001b[0m     InterpretableEmbeddingBase,\n\u001b[1;32m     57\u001b[0m     remove_interpretable_embedding_layer,\n\u001b[1;32m     58\u001b[0m     TokenReferenceBase,\n\u001b[1;32m     59\u001b[0m )\n\u001b[0;32m---> 60\u001b[0m \u001b[39mfrom\u001b[39;00m \u001b[39mcaptum\u001b[39;00m\u001b[39m.\u001b[39;00m\u001b[39mattr\u001b[39;00m\u001b[39m.\u001b[39;00m\u001b[39m_utils\u001b[39;00m \u001b[39mimport\u001b[39;00m visualization  \u001b[39m# noqa\u001b[39;00m\n\u001b[1;32m     61\u001b[0m \u001b[39mfrom\u001b[39;00m \u001b[39mcaptum\u001b[39;00m\u001b[39m.\u001b[39;00m\u001b[39mattr\u001b[39;00m\u001b[39m.\u001b[39;00m\u001b[39m_utils\u001b[39;00m\u001b[39m.\u001b[39;00m\u001b[39mattribution\u001b[39;00m \u001b[39mimport\u001b[39;00m (  \u001b[39m# noqa  # noqa  # noqa  # noqa  # noqa\u001b[39;00m\n\u001b[1;32m     62\u001b[0m     Attribution,\n\u001b[1;32m     63\u001b[0m     GradientAttribution,\n\u001b[0;32m   (...)\u001b[0m\n\u001b[1;32m     66\u001b[0m     PerturbationAttribution,\n\u001b[1;32m     67\u001b[0m )\n\u001b[1;32m     68\u001b[0m \u001b[39mfrom\u001b[39;00m \u001b[39mcaptum\u001b[39;00m\u001b[39m.\u001b[39;00m\u001b[39mattr\u001b[39;00m\u001b[39m.\u001b[39;00m\u001b[39m_utils\u001b[39;00m\u001b[39m.\u001b[39;00m\u001b[39mclass_summarizer\u001b[39;00m \u001b[39mimport\u001b[39;00m ClassSummarizer\n",
      "File \u001b[0;32m~/Github/workbench/pytorch/.ml_venv/lib/python3.10/site-packages/captum/attr/_utils/visualization.py:12\u001b[0m\n\u001b[1;32m     10\u001b[0m \u001b[39mfrom\u001b[39;00m \u001b[39mmatplotlib\u001b[39;00m\u001b[39m.\u001b[39;00m\u001b[39mfigure\u001b[39;00m \u001b[39mimport\u001b[39;00m Figure\n\u001b[1;32m     11\u001b[0m \u001b[39mfrom\u001b[39;00m \u001b[39mmatplotlib\u001b[39;00m\u001b[39m.\u001b[39;00m\u001b[39mpyplot\u001b[39;00m \u001b[39mimport\u001b[39;00m axis, figure\n\u001b[0;32m---> 12\u001b[0m \u001b[39mfrom\u001b[39;00m \u001b[39mmpl_toolkits\u001b[39;00m\u001b[39m.\u001b[39;00m\u001b[39maxes_grid1\u001b[39;00m \u001b[39mimport\u001b[39;00m make_axes_locatable\n\u001b[1;32m     13\u001b[0m \u001b[39mfrom\u001b[39;00m \u001b[39mnumpy\u001b[39;00m \u001b[39mimport\u001b[39;00m ndarray\n\u001b[1;32m     15\u001b[0m \u001b[39mtry\u001b[39;00m:\n",
      "File \u001b[0;32m~/Github/workbench/pytorch/.ml_venv/lib/python3.10/site-packages/mpl_toolkits/axes_grid1/__init__.py:3\u001b[0m\n\u001b[1;32m      1\u001b[0m \u001b[39mfrom\u001b[39;00m \u001b[39m.\u001b[39;00m \u001b[39mimport\u001b[39;00m axes_size \u001b[39mas\u001b[39;00m Size\n\u001b[1;32m      2\u001b[0m \u001b[39mfrom\u001b[39;00m \u001b[39m.\u001b[39;00m\u001b[39maxes_divider\u001b[39;00m \u001b[39mimport\u001b[39;00m Divider, SubplotDivider, make_axes_locatable\n\u001b[0;32m----> 3\u001b[0m \u001b[39mfrom\u001b[39;00m \u001b[39m.\u001b[39;00m\u001b[39maxes_grid\u001b[39;00m \u001b[39mimport\u001b[39;00m Grid, ImageGrid, AxesGrid\n\u001b[1;32m      5\u001b[0m \u001b[39mfrom\u001b[39;00m \u001b[39m.\u001b[39;00m\u001b[39mparasite_axes\u001b[39;00m \u001b[39mimport\u001b[39;00m host_subplot, host_axes\n",
      "File \u001b[0;32m~/Github/workbench/pytorch/.ml_venv/lib/python3.10/site-packages/mpl_toolkits/axes_grid1/axes_grid.py:22\u001b[0m\n\u001b[1;32m     18\u001b[0m     ax\u001b[39m.\u001b[39maxis[\u001b[39m\"\u001b[39m\u001b[39mbottom\u001b[39m\u001b[39m\"\u001b[39m]\u001b[39m.\u001b[39mtoggle(ticklabels\u001b[39m=\u001b[39mbottom_off, label\u001b[39m=\u001b[39mbottom_off)\n\u001b[1;32m     19\u001b[0m     ax\u001b[39m.\u001b[39maxis[\u001b[39m\"\u001b[39m\u001b[39mleft\u001b[39m\u001b[39m\"\u001b[39m]\u001b[39m.\u001b[39mtoggle(ticklabels\u001b[39m=\u001b[39mleft_off, label\u001b[39m=\u001b[39mleft_off)\n\u001b[0;32m---> 22\u001b[0m \u001b[39mclass\u001b[39;00m \u001b[39mCbarAxesBase\u001b[39;00m:\n\u001b[1;32m     23\u001b[0m     \u001b[39mdef\u001b[39;00m \u001b[39m__init__\u001b[39m(\u001b[39mself\u001b[39m, \u001b[39m*\u001b[39margs, orientation, \u001b[39m*\u001b[39m\u001b[39m*\u001b[39mkwargs):\n\u001b[1;32m     24\u001b[0m         \u001b[39mself\u001b[39m\u001b[39m.\u001b[39morientation \u001b[39m=\u001b[39m orientation\n",
      "File \u001b[0;32m~/Github/workbench/pytorch/.ml_venv/lib/python3.10/site-packages/mpl_toolkits/axes_grid1/axes_grid.py:29\u001b[0m, in \u001b[0;36mCbarAxesBase\u001b[0;34m()\u001b[0m\n\u001b[1;32m     26\u001b[0m     \u001b[39mself\u001b[39m\u001b[39m.\u001b[39m_locator \u001b[39m=\u001b[39m \u001b[39mNone\u001b[39;00m  \u001b[39m# deprecated.\u001b[39;00m\n\u001b[1;32m     27\u001b[0m     \u001b[39msuper\u001b[39m()\u001b[39m.\u001b[39m\u001b[39m__init__\u001b[39m(\u001b[39m*\u001b[39margs, \u001b[39m*\u001b[39m\u001b[39m*\u001b[39mkwargs)\n\u001b[0;32m---> 29\u001b[0m \u001b[39m@cbook\u001b[39m\u001b[39m.\u001b[39;49m_rename_parameter(\u001b[39m\"\u001b[39m\u001b[39m3.2\u001b[39m\u001b[39m\"\u001b[39m, \u001b[39m\"\u001b[39m\u001b[39mlocator\u001b[39m\u001b[39m\"\u001b[39m, \u001b[39m\"\u001b[39m\u001b[39mticks\u001b[39m\u001b[39m\"\u001b[39m)\n\u001b[1;32m     30\u001b[0m \u001b[39mdef\u001b[39;00m \u001b[39mcolorbar\u001b[39m(\u001b[39mself\u001b[39m, mappable, \u001b[39m*\u001b[39m, ticks\u001b[39m=\u001b[39m\u001b[39mNone\u001b[39;00m, \u001b[39m*\u001b[39m\u001b[39m*\u001b[39mkwargs):\n\u001b[1;32m     32\u001b[0m     \u001b[39mif\u001b[39;00m \u001b[39mself\u001b[39m\u001b[39m.\u001b[39morientation \u001b[39min\u001b[39;00m [\u001b[39m\"\u001b[39m\u001b[39mtop\u001b[39m\u001b[39m\"\u001b[39m, \u001b[39m\"\u001b[39m\u001b[39mbottom\u001b[39m\u001b[39m\"\u001b[39m]:\n\u001b[1;32m     33\u001b[0m         orientation \u001b[39m=\u001b[39m \u001b[39m\"\u001b[39m\u001b[39mhorizontal\u001b[39m\u001b[39m\"\u001b[39m\n",
      "File \u001b[0;32m~/Github/workbench/pytorch/.ml_venv/lib/python3.10/site-packages/matplotlib/_api/__init__.py:226\u001b[0m, in \u001b[0;36m__getattr__\u001b[0;34m(name)\u001b[0m\n",
      "\u001b[0;31mAttributeError\u001b[0m: module 'matplotlib.cbook' has no attribute '_rename_parameter'"
     ]
    }
   ],
   "source": [
    "import torch\n",
    "import torch.nn.functional as F\n",
    "import torchvision.transforms as transforms\n",
    "import torchvision.models as models\n",
    "\n",
    "import captum\n",
    "from captum.attr import IntegratedGradients, Occlusion, LayerGradCam, LayerAttribution\n",
    "from captum.attr import visualization as viz\n",
    "\n",
    "import os, sys\n",
    "import json\n",
    "\n",
    "import numpy as np\n",
    "from PIL import Image\n",
    "import matplotlib.pyplot as plt\n",
    "from matplotlib.colors import LinearSegmentedColormap"
   ]
  },
  {
   "cell_type": "code",
   "execution_count": null,
   "metadata": {},
   "outputs": [],
   "source": []
  }
 ],
 "metadata": {
  "kernelspec": {
   "display_name": ".ml_venv",
   "language": "python",
   "name": "python3"
  },
  "language_info": {
   "codemirror_mode": {
    "name": "ipython",
    "version": 3
   },
   "file_extension": ".py",
   "mimetype": "text/x-python",
   "name": "python",
   "nbconvert_exporter": "python",
   "pygments_lexer": "ipython3",
   "version": "3.10.9"
  },
  "orig_nbformat": 4
 },
 "nbformat": 4,
 "nbformat_minor": 2
}

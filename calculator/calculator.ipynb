{
 "cells": [
  {
   "cell_type": "code",
   "execution_count": 6,
   "metadata": {},
   "outputs": [
    {
     "name": "stdout",
     "output_type": "stream",
     "text": [
      "214.48271256197475\n"
     ]
    }
   ],
   "source": [
    "# M(t) = 21cos(2pi*t/687) + 228\n",
    "# How many days until mars first reach 220 million km from the sun?\n",
    "# 220 = 21cos(2pi*t/687) + 228\n",
    "# -8 = 21cos(2pi*t/687)\n",
    "# cos(2pi*t/687) = -8/21\n",
    "# 2pi*t/687 = arccos(-8/21)\n",
    "# t = 687*arccos(-8/21)/(2pi)\n",
    "\n",
    "import math\n",
    "\n",
    "print(687 * math.acos(-8 / 21) / (2 * math.pi))"
   ]
  },
  {
   "cell_type": "code",
   "execution_count": 5,
   "metadata": {},
   "outputs": [
    {
     "name": "stdout",
     "output_type": "stream",
     "text": [
      "Exact value: 1/2\n",
      "Simplified value: 1/2\n"
     ]
    }
   ],
   "source": [
    "import sympy as sym\n",
    "\n",
    "# Define the symbol for pi\n",
    "pi = sym.pi\n",
    "\n",
    "# Calculate cos(5pi/3) symbolically\n",
    "result = sym.cos(5 * pi / 3)\n",
    "\n",
    "# Simplify the result (optional, but often useful)\n",
    "result_simplified = sym.simplify(result)\n",
    "\n",
    "# Print the exact result\n",
    "print(\"Exact value:\", result)\n",
    "print(\"Simplified value:\", result_simplified)"
   ]
  }
 ],
 "metadata": {
  "kernelspec": {
   "display_name": ".venv",
   "language": "python",
   "name": "python3"
  },
  "language_info": {
   "codemirror_mode": {
    "name": "ipython",
    "version": 3
   },
   "file_extension": ".py",
   "mimetype": "text/x-python",
   "name": "python",
   "nbconvert_exporter": "python",
   "pygments_lexer": "ipython3",
   "version": "3.12.1"
  }
 },
 "nbformat": 4,
 "nbformat_minor": 2
}

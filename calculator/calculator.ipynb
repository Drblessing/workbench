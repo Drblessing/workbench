{
 "cells": [
  {
   "cell_type": "code",
   "execution_count": 52,
   "metadata": {},
   "outputs": [
    {
     "data": {
      "text/plain": [
       "40.0"
      ]
     },
     "execution_count": 52,
     "metadata": {},
     "output_type": "execute_result"
    }
   ],
   "source": [
    "import math\n",
    "import sympy as sp\n",
    "import numpy as np\n",
    "import scipy as sc\n",
    "from decimal import Decimal\n",
    "\n",
    "# H(t) = -0.6 cos(2pi / 2.5 t) + 1.5\n",
    "math.acos(0.5)\n",
    "\n",
    "# 7cos(9x) -1 = 1\n",
    "# 7cos(9x) = 2\n",
    "# cos(9x) = 2/7\n",
    "# 9x = cos^-1(2/7) + 2pi * n\n",
    "# x = (cos^-1(2/7) + 2pi * n)/9\n",
    "\n",
    "cosi = math.acos(2 / 7)\n",
    "math.degrees(cosi) / 9\n",
    "\n",
    "\n",
    "360 / 9"
   ]
  },
  {
   "cell_type": "code",
   "execution_count": null,
   "metadata": {},
   "outputs": [],
   "source": []
  },
  {
   "cell_type": "code",
   "execution_count": 28,
   "metadata": {},
   "outputs": [
    {
     "data": {
      "text/plain": [
       "-0.22181447049679442"
      ]
     },
     "execution_count": 28,
     "metadata": {},
     "output_type": "execute_result"
    }
   ],
   "source": [
    "math.asin(-0.22)"
   ]
  },
  {
   "cell_type": "code",
   "execution_count": 15,
   "metadata": {},
   "outputs": [
    {
     "data": {
      "text/plain": [
       "36.35039334336709"
      ]
     },
     "execution_count": 15,
     "metadata": {},
     "output_type": "execute_result"
    }
   ],
   "source": [
    "# Law of sine\n",
    "# 122 degrees, 3.72km, ad other side is 2.60km\n",
    "\n",
    "import math\n",
    "\n",
    "# We know a,b, and sin(a)\n",
    "# sin(b) = sin(a) * b/a\n",
    "# a = 3.72\n",
    "# A = 122\n",
    "# b = 2.60\n",
    "# B = ?\n",
    "sin_B = math.sin(math.radians(122)) * 2.60 / 3.72\n",
    "B = math.degrees(math.asin(sin_B))\n",
    "B"
   ]
  },
  {
   "cell_type": "code",
   "execution_count": 6,
   "metadata": {},
   "outputs": [
    {
     "name": "stdout",
     "output_type": "stream",
     "text": [
      "214.48271256197475\n"
     ]
    }
   ],
   "source": [
    "# M(t) = 21cos(2pi*t/687) + 228\n",
    "# How many days until mars first reach 220 million km from the sun?\n",
    "# 220 = 21cos(2pi*t/687) + 228\n",
    "# -8 = 21cos(2pi*t/687)\n",
    "# cos(2pi*t/687) = -8/21\n",
    "# 2pi*t/687 = arccos(-8/21)\n",
    "# t = 687*arccos(-8/21)/(2pi)\n",
    "\n",
    "\n",
    "import math\n",
    "\n",
    "print(687 * math.acos(-8 / 21) / (2 * math.pi))"
   ]
  },
  {
   "cell_type": "code",
   "execution_count": null,
   "metadata": {},
   "outputs": [],
   "source": []
  },
  {
   "cell_type": "code",
   "execution_count": 5,
   "metadata": {},
   "outputs": [
    {
     "name": "stdout",
     "output_type": "stream",
     "text": [
      "Exact value: 1/2\n",
      "Simplified value: 1/2\n"
     ]
    }
   ],
   "source": [
    "import sympy as sym\n",
    "\n",
    "# Define the symbol for pi\n",
    "pi = sym.pi\n",
    "\n",
    "# Calculate cos(5pi/3) symbolically\n",
    "result = sym.cos(5 * pi / 3)\n",
    "\n",
    "# Simplify the result (optional, but often useful)\n",
    "result_simplified = sym.simplify(result)\n",
    "\n",
    "# Print the exact result\n",
    "print(\"Exact value:\", result)\n",
    "print(\"Simplified value:\", result_simplified)"
   ]
  }
 ],
 "metadata": {
  "kernelspec": {
   "display_name": ".venv",
   "language": "python",
   "name": "python3"
  },
  "language_info": {
   "codemirror_mode": {
    "name": "ipython",
    "version": 3
   },
   "file_extension": ".py",
   "mimetype": "text/x-python",
   "name": "python",
   "nbconvert_exporter": "python",
   "pygments_lexer": "ipython3",
   "version": "3.12.1"
  }
 },
 "nbformat": 4,
 "nbformat_minor": 2
}

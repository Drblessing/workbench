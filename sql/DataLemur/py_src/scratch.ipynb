{
 "cells": [
  {
   "cell_type": "code",
   "execution_count": 1,
   "metadata": {},
   "outputs": [
    {
     "name": "stdout",
     "output_type": "stream",
     "text": [
      "100\n",
      "10\n"
     ]
    },
    {
     "data": {
      "text/plain": [
       "(0, 234800)"
      ]
     },
     "execution_count": 1,
     "metadata": {},
     "output_type": "execute_result"
    }
   ],
   "source": [
    "def trailing_zeroes(n: int) -> int:\n",
    "    \"\"\"Calculates the factorial of n, then counts the trailing zeroes.\"\"\"\n",
    "\n",
    "    if not isinstance(n, int):\n",
    "        raise TypeError(\"n must be an integer.\")\n",
    "    elif n < 0:\n",
    "        raise ValueError(\"n must be positive.\")\n",
    "\n",
    "    # Calculate the factorial of n\n",
    "    factorial = 1\n",
    "    for i in range(1, n + 1):\n",
    "        factorial *= i\n",
    "\n",
    "    # Count the trailing zeroes\n",
    "    trailing_zeroes = 0\n",
    "    while factorial % 10 == 0:\n",
    "        trailing_zeroes += 1\n",
    "        factorial //= 10\n",
    "\n",
    "    # Return the number of trailing zeroes\n",
    "    return trailing_zeroes\n",
    "\n",
    "\n",
    "factorial = 100\n",
    "trailing_zeros = 0\n",
    "while factorial % 10 == 0:\n",
    "    print(factorial)\n",
    "    trailing_zeros += 1\n",
    "    factorial //= 10\n",
    "\n",
    "2348000 % 10, 2348000 // 10"
   ]
  },
  {
   "cell_type": "code",
   "execution_count": 66,
   "metadata": {},
   "outputs": [],
   "source": [
    "random_list = [random.randint(-1000, 1000) for _ in range(1_000_000_000)]"
   ]
  },
  {
   "cell_type": "code",
   "execution_count": 67,
   "metadata": {},
   "outputs": [
    {
     "data": {
      "text/plain": [
       "(15.499834833000932, 3.073349500002223)"
      ]
     },
     "execution_count": 67,
     "metadata": {},
     "output_type": "execute_result"
    }
   ],
   "source": [
    "import heapq\n",
    "import random\n",
    "import time\n",
    "\n",
    "\n",
    "# First function using sorting\n",
    "def max_product_sort(input_list):\n",
    "    input_list.sort()\n",
    "    return max(\n",
    "        input_list[0] * input_list[1] * input_list[-1],\n",
    "        input_list[-1] * input_list[-2] * input_list[-3],\n",
    "    )\n",
    "\n",
    "\n",
    "# Second function using heapq\n",
    "def max_product_heapq(input_list):\n",
    "    largest = heapq.nlargest(3, input_list)\n",
    "    smallest = heapq.nsmallest(2, input_list)\n",
    "    return max(\n",
    "        largest[2] * largest[1] * largest[0], smallest[1] * smallest[0] * largest[0]\n",
    "    )\n",
    "\n",
    "\n",
    "# Generate a large random list of integers\n",
    "# random_list = [random.randint(-1000, 1000) for _ in range(1_000_000)]\n",
    "\n",
    "# Benchmarking the sorting method\n",
    "start_time = time.perf_counter()\n",
    "max_product_sort(random_list.copy())\n",
    "sort_time = time.perf_counter() - start_time\n",
    "\n",
    "# Benchmarking the heapq method\n",
    "start_time = time.perf_counter()\n",
    "max_product_heapq(random_list.copy())\n",
    "heapq_time = time.perf_counter() - start_time\n",
    "\n",
    "(sort_time, heapq_time)"
   ]
  },
  {
   "cell_type": "code",
   "execution_count": 68,
   "metadata": {},
   "outputs": [
    {
     "name": "stdout",
     "output_type": "stream",
     "text": [
      "         528 function calls (522 primitive calls) in 2.551 seconds\n",
      "\n",
      "   Ordered by: standard name\n",
      "\n",
      "   ncalls  tottime  percall  cumtime  percall filename:lineno(function)\n",
      "        1    0.000    0.000    2.451    2.451 1258052677.py:16(max_product_heapq)\n",
      "        2    0.000    0.000    0.000    0.000 <frozen abc>:121(__subclasscheck__)\n",
      "        4    0.000    0.000    0.000    0.000 <frozen importlib._bootstrap>:1390(_handle_fromlist)\n",
      "        1    0.000    0.000    0.000    0.000 _base.py:337(_invoke_callbacks)\n",
      "        1    0.000    0.000    0.000    0.000 _base.py:537(set_result)\n",
      "        1    0.000    0.000    0.093    0.093 asyncio.py:200(_handle_events)\n",
      "        1    0.000    0.000    0.000    0.000 asyncio.py:225(add_callback)\n",
      "        4    0.000    0.000    0.000    0.000 attrsettr.py:42(__getattr__)\n",
      "        4    0.000    0.000    0.000    0.000 attrsettr.py:65(_get_attr_opt)\n",
      "        1    0.000    0.000    0.000    0.000 base_events.py:1879(_add_callback)\n",
      "      4/3    0.000    0.000    2.551    0.850 base_events.py:1894(_run_once)\n",
      "        3    0.000    0.000    0.000    0.000 base_events.py:1989(get_debug)\n",
      "        2    0.000    0.000    0.000    0.000 base_events.py:537(_check_closed)\n",
      "        1    0.000    0.000    0.000    0.000 base_events.py:717(is_closed)\n",
      "        4    0.000    0.000    0.000    0.000 base_events.py:731(time)\n",
      "        1    0.000    0.000    0.000    0.000 base_events.py:782(call_soon)\n",
      "        2    0.000    0.000    0.000    0.000 base_events.py:811(_call_soon)\n",
      "        1    0.000    0.000    0.000    0.000 base_events.py:835(call_soon_threadsafe)\n",
      "        1    0.000    0.000    0.000    0.000 decorator.py:199(fix)\n",
      "        1    0.000    0.000    0.019    0.019 decorator.py:229(fun)\n",
      "       26    0.000    0.000    0.000    0.000 enum.py:1116(__new__)\n",
      "       14    0.000    0.000    0.000    0.000 enum.py:1531(__or__)\n",
      "        6    0.000    0.000    0.000    0.000 enum.py:1541(__and__)\n",
      "       26    0.000    0.000    0.000    0.000 enum.py:713(__call__)\n",
      "        2    0.000    0.000    0.000    0.000 events.py:32(__init__)\n",
      "        3    0.000    0.000    0.094    0.031 events.py:82(_run)\n",
      "        1    0.000    0.000    0.000    0.000 futures.py:394(_call_set_state)\n",
      "        1    1.276    1.276    1.276    1.276 heapq.py:463(nsmallest)\n",
      "        1    1.175    1.175    1.175    1.175 heapq.py:523(nlargest)\n",
      "        1    0.000    0.000    0.019    0.019 history.py:54(only_when_enabled)\n",
      "        1    0.000    0.000    0.018    0.018 history.py:824(_writeout_input_cache)\n",
      "        1    0.000    0.000    0.000    0.000 history.py:830(_writeout_output_cache)\n",
      "        1    0.000    0.000    0.019    0.019 history.py:836(writeout_cache)\n",
      "        4    0.000    0.000    0.000    0.000 inspect.py:2782(name)\n",
      "       10    0.000    0.000    0.000    0.000 inspect.py:2794(kind)\n",
      "        1    0.000    0.000    0.000    0.000 inspect.py:2874(__init__)\n",
      "        1    0.000    0.000    0.000    0.000 inspect.py:2882(args)\n",
      "        1    0.000    0.000    0.000    0.000 inspect.py:2905(kwargs)\n",
      "        1    0.000    0.000    0.000    0.000 inspect.py:2935(apply_defaults)\n",
      "        4    0.000    0.000    0.000    0.000 inspect.py:3075(parameters)\n",
      "        1    0.000    0.000    0.000    0.000 inspect.py:3119(_bind)\n",
      "        1    0.000    0.000    0.000    0.000 inspect.py:3254(bind)\n",
      "        1    0.000    0.000    0.000    0.000 ioloop.py:742(_run_callback)\n",
      "        2    0.000    0.000    0.093    0.047 iostream.py:157(_handle_event)\n",
      "        2    0.000    0.000    0.000    0.000 iostream.py:213(_is_master_process)\n",
      "        2    0.000    0.000    0.000    0.000 iostream.py:216(_check_mp_mode)\n",
      "        2    0.000    0.000    0.000    0.000 iostream.py:255(closed)\n",
      "        2    0.000    0.000    0.093    0.047 iostream.py:276(<lambda>)\n",
      "        2    0.000    0.000    0.074    0.037 iostream.py:278(_really_send)\n",
      "        1    0.000    0.000    0.000    0.000 kernelbase.py:302(poll_control_queue)\n",
      "        2    0.000    0.000    0.000    0.000 queue.py:209(_qsize)\n",
      "        2    0.000    0.000    0.000    0.000 queue.py:97(empty)\n",
      "        1    0.000    0.000    0.000    0.000 queues.py:173(qsize)\n",
      "        1    0.000    0.000    0.000    0.000 queues.py:225(get)\n",
      "        1    0.000    0.000    0.000    0.000 queues.py:256(get_nowait)\n",
      "        1    0.000    0.000    0.000    0.000 queues.py:322(_consume_expired)\n",
      "        1    0.000    0.000    0.000    0.000 queues.py:59(_set_timeout)\n",
      "        1    0.000    0.000    0.000    0.000 selector_events.py:141(_write_to_self)\n",
      "        3    0.000    0.000    0.000    0.000 selector_events.py:746(_process_events)\n",
      "        1    0.000    0.000    0.000    0.000 selectors.py:275(_key_from_fd)\n",
      "        3    0.000    0.000    2.558    0.853 selectors.py:558(select)\n",
      "       14    0.080    0.006    0.080    0.006 socket.py:621(send)\n",
      "        2    0.000    0.000    0.074    0.037 socket.py:698(send_multipart)\n",
      "        2    0.000    0.000    0.000    0.000 socket.py:777(recv_multipart)\n",
      "        3    0.000    0.000    0.000    0.000 threading.py:299(__enter__)\n",
      "        3    0.000    0.000    0.000    0.000 threading.py:302(__exit__)\n",
      "        1    0.000    0.000    0.000    0.000 threading.py:308(_release_save)\n",
      "        1    0.000    0.000    0.000    0.000 threading.py:311(_acquire_restore)\n",
      "        1    0.000    0.000    0.000    0.000 threading.py:314(_is_owned)\n",
      "        1    0.000    0.000    0.000    0.000 threading.py:394(notify)\n",
      "        1    0.000    0.000    0.000    0.000 threading.py:424(notify_all)\n",
      "        1    0.000    0.000    0.000    0.000 threading.py:627(clear)\n",
      "        1    0.000    0.000    0.000    0.000 traitlets.py:1512(_notify_trait)\n",
      "        1    0.000    0.000    0.000    0.000 traitlets.py:1523(notify_change)\n",
      "        1    0.000    0.000    0.000    0.000 traitlets.py:1527(_notify_observers)\n",
      "        2    0.000    0.000    0.000    0.000 traitlets.py:2304(validate)\n",
      "        2    0.000    0.000    0.000    0.000 traitlets.py:3474(validate)\n",
      "        2    0.000    0.000    0.000    0.000 traitlets.py:3486(validate_elements)\n",
      "        2    0.000    0.000    0.000    0.000 traitlets.py:3624(validate_elements)\n",
      "        2    0.000    0.000    0.000    0.000 traitlets.py:3631(set)\n",
      "        6    0.000    0.000    0.000    0.000 traitlets.py:629(get)\n",
      "        6    0.000    0.000    0.000    0.000 traitlets.py:676(__get__)\n",
      "        2    0.000    0.000    0.000    0.000 traitlets.py:689(set)\n",
      "        2    0.000    0.000    0.000    0.000 traitlets.py:708(__set__)\n",
      "        2    0.000    0.000    0.000    0.000 traitlets.py:718(_validate)\n",
      "        2    0.000    0.000    0.000    0.000 traitlets.py:727(_cross_validate)\n",
      "        2    0.000    0.000    0.000    0.000 typing.py:1175(__instancecheck__)\n",
      "        4    0.000    0.000    0.000    0.000 typing.py:1239(__hash__)\n",
      "        2    0.000    0.000    0.000    0.000 typing.py:1446(__subclasscheck__)\n",
      "       24    0.000    0.000    0.000    0.000 typing.py:2119(cast)\n",
      "        6    0.000    0.000    0.000    0.000 typing.py:378(inner)\n",
      "        4    0.000    0.000    0.000    0.000 zmqstream.py:562(receiving)\n",
      "        2    0.000    0.000    0.000    0.000 zmqstream.py:566(sending)\n",
      "        2    0.000    0.000    0.093    0.047 zmqstream.py:580(_run_callback)\n",
      "        2    0.000    0.000    0.093    0.047 zmqstream.py:607(_handle_events)\n",
      "        2    0.000    0.000    0.093    0.047 zmqstream.py:648(_handle_recv)\n",
      "        2    0.000    0.000    0.000    0.000 zmqstream.py:687(_rebuild_io_state)\n",
      "        2    0.000    0.000    0.000    0.000 zmqstream.py:710(_update_handler)\n",
      "        1    0.000    0.000    0.000    0.000 zmqstream.py:718(<lambda>)\n",
      "        2    0.000    0.000    0.000    0.000 {built-in method _abc._abc_subclasscheck}\n",
      "        1    0.000    0.000    0.000    0.000 {built-in method _asyncio.get_running_loop}\n",
      "        2    0.000    0.000    0.000    0.000 {built-in method _contextvars.copy_context}\n",
      "        1    0.000    0.000    0.000    0.000 {built-in method _heapq._heapify_max}\n",
      "       13    0.000    0.000    0.000    0.000 {built-in method _heapq._heapreplace_max}\n",
      "        1    0.000    0.000    0.000    0.000 {built-in method _heapq.heapify}\n",
      "       26    0.000    0.000    0.000    0.000 {built-in method _heapq.heapreplace}\n",
      "        1    0.000    0.000    0.000    0.000 {built-in method _thread.allocate_lock}\n",
      "        4    0.000    0.000    0.000    0.000 {built-in method builtins.getattr}\n",
      "        9    0.000    0.000    0.000    0.000 {built-in method builtins.hasattr}\n",
      "        4    0.000    0.000    0.000    0.000 {built-in method builtins.hash}\n",
      "    72/68    0.000    0.000    0.000    0.000 {built-in method builtins.isinstance}\n",
      "        2    0.000    0.000    0.000    0.000 {built-in method builtins.issubclass}\n",
      "        4    0.000    0.000    0.000    0.000 {built-in method builtins.iter}\n",
      "       16    0.000    0.000    0.000    0.000 {built-in method builtins.len}\n",
      "        4    0.000    0.000    0.000    0.000 {built-in method builtins.max}\n",
      "        1    0.000    0.000    0.000    0.000 {built-in method builtins.min}\n",
      "        6    0.000    0.000    0.000    0.000 {built-in method builtins.next}\n",
      "        2    0.000    0.000    0.000    0.000 {built-in method posix.getpid}\n",
      "        4    0.000    0.000    0.000    0.000 {built-in method time.monotonic}\n",
      "        1    0.000    0.000    0.000    0.000 {method '__enter__' of '_thread.RLock' objects}\n",
      "        2    0.000    0.000    0.000    0.000 {method '__enter__' of '_thread.lock' objects}\n",
      "        1    0.000    0.000    0.000    0.000 {method '__exit__' of '_thread.RLock' objects}\n",
      "        6    0.000    0.000    0.000    0.000 {method '__exit__' of '_thread.lock' objects}\n",
      "        2    0.006    0.003    0.006    0.003 {method '__exit__' of 'sqlite3.Connection' objects}\n",
      "        1    0.000    0.000    0.000    0.000 {method '_is_owned' of '_thread.RLock' objects}\n",
      "        3    0.000    0.000    0.000    0.000 {method 'acquire' of '_thread.lock' objects}\n",
      "        5    0.000    0.000    0.000    0.000 {method 'append' of 'collections.deque' objects}\n",
      "        5    0.000    0.000    0.000    0.000 {method 'append' of 'list' objects}\n",
      "        1    0.000    0.000    0.000    0.000 {method 'cancelled' of '_asyncio.Future' objects}\n",
      "      1/0    0.006    0.006    0.000          {method 'control' of 'select.kqueue' objects}\n",
      "        1    0.000    0.000    0.000    0.000 {method 'disable' of '_lsprof.Profiler' objects}\n",
      "        1    0.006    0.006    0.006    0.006 {method 'execute' of 'sqlite3.Connection' objects}\n",
      "        2    0.000    0.000    0.000    0.000 {method 'extend' of 'list' objects}\n",
      "        4    0.000    0.000    0.000    0.000 {method 'get' of 'dict' objects}\n",
      "        3    0.000    0.000    0.000    0.000 {method 'items' of 'mappingproxy' objects}\n",
      "        5    0.000    0.000    0.000    0.000 {method 'popleft' of 'collections.deque' objects}\n",
      "        1    0.000    0.000    0.000    0.000 {method 'release' of '_thread.lock' objects}\n",
      "        3    0.000    0.000    0.094    0.031 {method 'run' of '_contextvars.Context' objects}\n",
      "        1    0.000    0.000    0.000    0.000 {method 'send' of '_socket.socket' objects}\n",
      "        2    0.000    0.000    0.000    0.000 {method 'sort' of 'list' objects}\n",
      "        4    0.000    0.000    0.000    0.000 {method 'upper' of 'str' objects}\n",
      "        1    0.000    0.000    0.000    0.000 {method 'values' of 'mappingproxy' objects}\n",
      "\n",
      "\n"
     ]
    }
   ],
   "source": [
    "import cProfile\n",
    "import heapq\n",
    "import random\n",
    "\n",
    "\n",
    "# First function using sorting\n",
    "def max_product_sort(input_list):\n",
    "    input_list.sort()\n",
    "    return max(\n",
    "        input_list[0] * input_list[1] * input_list[-1],\n",
    "        input_list[-1] * input_list[-2] * input_list[-3],\n",
    "    )\n",
    "\n",
    "\n",
    "# Second function using heapq\n",
    "def max_product_heapq(input_list):\n",
    "    largest = heapq.nlargest(3, input_list)\n",
    "    smallest = heapq.nsmallest(2, input_list)\n",
    "    return max(\n",
    "        largest[2] * largest[1] * largest[0], smallest[1] * smallest[0] * largest[0]\n",
    "    )\n",
    "\n",
    "\n",
    "# Generate a large random list of integers\n",
    "# random_list = [random.randint(-1000, 1000) for _ in range(10_000_000)]\n",
    "\n",
    "# Create a profiler instance\n",
    "profiler = cProfile.Profile()\n",
    "\n",
    "\n",
    "# Run the heapq function under the profiler\n",
    "profiler.runcall(max_product_heapq, random_list.copy())\n",
    "# Print the stats for the heapq function\n",
    "profiler.print_stats()"
   ]
  },
  {
   "cell_type": "code",
   "execution_count": 8,
   "metadata": {},
   "outputs": [
    {
     "data": {
      "text/plain": [
       "(0.01959954199992353, 0.015263792000041576)"
      ]
     },
     "execution_count": 8,
     "metadata": {},
     "output_type": "execute_result"
    }
   ],
   "source": [
    "import time\n",
    "\n",
    "\n",
    "def largest_prime_factor_fast(target):\n",
    "    i = 2\n",
    "    while i * i <= target:\n",
    "        if (target % i) != 0:\n",
    "            i += 1\n",
    "        else:\n",
    "            target //= i\n",
    "    return target\n",
    "\n",
    "\n",
    "def largest_prime_factor(target: int) -> int:\n",
    "    \"\"\"Returns the largest prime factor of target.\"\"\"\n",
    "\n",
    "    # Check that target is an integer\n",
    "    if not isinstance(target, int):\n",
    "        raise TypeError(\"target must be an integer.\")\n",
    "\n",
    "    # Check that target is positive\n",
    "    if target < 1:\n",
    "        raise ValueError(\"target must be positive.\")\n",
    "\n",
    "    # Find the largest prime factor of target\n",
    "    # Start with 2\n",
    "    i = 2\n",
    "    # Only iterate whil  i * i <= target,\n",
    "    # because if i * i > target, then target is prime.\n",
    "    while i * i <= target:\n",
    "        # If target is divisible by i, then divide target by i.\n",
    "        # Otherwise, increment i.\n",
    "        if (target % i) != 0:\n",
    "            i += 1\n",
    "        else:\n",
    "            target //= i\n",
    "    # Return the largest prime factor of target\n",
    "    return target\n",
    "\n",
    "\n",
    "# Time the functions for numbers from 1 to x\n",
    "x = 10_000\n",
    "start_time = time.perf_counter()\n",
    "for i in range(1, x + 1):\n",
    "    largest_prime_factor(i)\n",
    "slow_time = time.perf_counter() - start_time\n",
    "\n",
    "start_time = time.perf_counter()\n",
    "for i in range(1, x + 1):\n",
    "    largest_prime_factor_fast(i)\n",
    "fast_time = time.perf_counter() - start_time\n",
    "\n",
    "(slow_time, fast_time)"
   ]
  },
  {
   "cell_type": "code",
   "execution_count": 29,
   "metadata": {},
   "outputs": [
    {
     "name": "stdout",
     "output_type": "stream",
     "text": [
      "5342931457063200\n",
      "5342931457063200\n",
      "\n",
      "Slow time: 0.00031167\n",
      "Fast time: 0.00008500\n",
      "Multiple: 3.67\n"
     ]
    }
   ],
   "source": [
    "import math\n",
    "import time\n",
    "\n",
    "\n",
    "def smallest_multiple(target: int) -> int:\n",
    "    \"\"\"Returns the smallest positive number that is evenly\n",
    "    divisible by all of the numbers from 1 to target.\"\"\"\n",
    "\n",
    "    # Initialize the lowest common multiple (LCM) to 1\n",
    "    lowest_cm = 1\n",
    "\n",
    "    # The maximum lcm is the product of all numbers from 1 to target\n",
    "    max_lcm = math.prod(range(1, target + 1))\n",
    "\n",
    "    # Iterate through all numbers from 1 to max_lcm\n",
    "    for i in range(1, max_lcm + 1):\n",
    "        # Assume the number is the lcm\n",
    "        is_lcm = True\n",
    "        # Iterate through all numbers from 1 to target\n",
    "        for j in range(1, target + 1):\n",
    "            # If the number is not evenly divisible by any number\n",
    "            # from 1 to target, it is not the lcm\n",
    "            if i % j != 0:\n",
    "                is_lcm = False\n",
    "                break\n",
    "        # If the number is the lcm, return it\n",
    "        if is_lcm:\n",
    "            return i\n",
    "\n",
    "    return 1\n",
    "\n",
    "\n",
    "# GCD and LCM are not in math module.  They are in gmpy, but these are simple enough:\n",
    "def gcd(a, b):\n",
    "    \"\"\"Compute the greatest common divisor of a and b\"\"\"\n",
    "    while b > 0:\n",
    "        a, b = b, a % b\n",
    "    return a\n",
    "\n",
    "\n",
    "def lcm(a, b):\n",
    "    \"\"\"Compute the lowest common multiple of a and b\"\"\"\n",
    "    return a * b // gcd(a, b)\n",
    "\n",
    "\n",
    "def lcm_range(n):\n",
    "    current_lcm = 1\n",
    "    for i in range(2, n + 1):\n",
    "        current_lcm = lcm(current_lcm, i)\n",
    "    return current_lcm\n",
    "\n",
    "\n",
    "def smallest_multiple_fast(target: int) -> int:\n",
    "    return math.lcm(*range(1, target + 1))\n",
    "\n",
    "\n",
    "# Time for 20\n",
    "x = 40\n",
    "start_time = time.perf_counter()\n",
    "print(lcm_range(x))\n",
    "slow_time = time.perf_counter() - start_time\n",
    "start_time = time.perf_counter()\n",
    "print(smallest_multiple_fast(x))\n",
    "print()\n",
    "fast_time = time.perf_counter() - start_time\n",
    "print(\n",
    "    f\"\"\"Slow time: {slow_time:.8f}\n",
    "Fast time: {fast_time:.8f}\n",
    "Multiple: {slow_time / fast_time:.2f}\"\"\"\n",
    ")"
   ]
  },
  {
   "cell_type": "code",
   "execution_count": 39,
   "metadata": {},
   "outputs": [
    {
     "data": {
      "text/plain": [
       "3"
      ]
     },
     "execution_count": 39,
     "metadata": {},
     "output_type": "execute_result"
    }
   ],
   "source": [
    "import numpy as np\n",
    "\n",
    "# vectors in numpy\n",
    "vector = np.array([1, 2, 3])\n",
    "\n",
    "# check if vector is an interable\n",
    "from collections.abc import Iterable, Sequence\n",
    "\n",
    "isinstance(vector, Iterable)"
   ]
  },
  {
   "cell_type": "code",
   "execution_count": 31,
   "metadata": {},
   "outputs": [
    {
     "data": {
      "text/plain": [
       "False"
      ]
     },
     "execution_count": 31,
     "metadata": {},
     "output_type": "execute_result"
    }
   ],
   "source": [
    "isinstance(3.4, int)"
   ]
  },
  {
   "cell_type": "code",
   "execution_count": 6,
   "metadata": {},
   "outputs": [
    {
     "name": "stdout",
     "output_type": "stream",
     "text": [
      "2520\n"
     ]
    }
   ],
   "source": [
    "# GCD and LCM are not in math module.  They are in gmpy, but these are simple enough:\n",
    "def gcd(a, b):\n",
    "    \"\"\"Compute the greatest common divisor of a and b\"\"\"\n",
    "    while b > 0:\n",
    "        a, b = b, a % b\n",
    "    return a\n",
    "\n",
    "\n",
    "def lcm(a, b):\n",
    "    \"\"\"Compute the lowest common multiple of a and b\"\"\"\n",
    "    return a * b // gcd(a, b)\n",
    "\n",
    "\n",
    "def lcm_range(n):\n",
    "    current_lcm = 1\n",
    "    for i in range(2, n + 1):\n",
    "        current_lcm = lcm(current_lcm, i)\n",
    "    return current_lcm\n",
    "\n",
    "\n",
    "# Example: Calculate the LCM of numbers from 1 to 10\n",
    "lcm_of_range = lcm_range(10)\n",
    "print(lcm_of_range)"
   ]
  },
  {
   "cell_type": "code",
   "execution_count": 24,
   "metadata": {},
   "outputs": [
    {
     "name": "stdout",
     "output_type": "stream",
     "text": [
      "Unbiased coefficient: 1.0000000000000002\n",
      "Biased coefficient: 0.7500000000000002\n"
     ]
    }
   ],
   "source": [
    "# coeff in numpy\n",
    "import statistics\n",
    "\n",
    "X = [1, 3, 5, 7]\n",
    "Y = [2, 4, 6, 8]\n",
    "n = len(X)\n",
    "unbiased_coeff = statistics.covariance(X, Y) / (\n",
    "    statistics.stdev(X) * statistics.stdev(Y)\n",
    ")\n",
    "biased_coeff = unbiased_coeff * (n - 1) / n\n",
    "print(f\"Unbiased coefficient: {unbiased_coeff}\")\n",
    "print(f\"Biased coefficient: {biased_coeff}\")"
   ]
  },
  {
   "cell_type": "code",
   "execution_count": 6,
   "metadata": {},
   "outputs": [
    {
     "data": {
      "text/plain": [
       "1.0"
      ]
     },
     "execution_count": 6,
     "metadata": {},
     "output_type": "execute_result"
    }
   ],
   "source": [
    "import pandas as pd\n",
    "\n",
    "df = pd.DataFrame({\"X\": [1, 3, 5, 7], \"Y\": [2, 4, 6, 8]})\n",
    "\n",
    "df[\"X\"].corr(df[\"Y\"], method=\"spearman\")"
   ]
  }
 ],
 "metadata": {
  "kernelspec": {
   "display_name": ".venv",
   "language": "python",
   "name": "python3"
  },
  "language_info": {
   "codemirror_mode": {
    "name": "ipython",
    "version": 3
   },
   "file_extension": ".py",
   "mimetype": "text/x-python",
   "name": "python",
   "nbconvert_exporter": "python",
   "pygments_lexer": "ipython3",
   "version": "3.12.1"
  }
 },
 "nbformat": 4,
 "nbformat_minor": 2
}

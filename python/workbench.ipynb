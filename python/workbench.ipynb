{
 "cells": [
  {
   "cell_type": "code",
   "execution_count": 1,
   "metadata": {},
   "outputs": [],
   "source": [
    "#!/usr/bin/env python3\n",
    "import os\n",
    "import pyperclip\n",
    "import argparse\n",
    "\n",
    "\n",
    "def convert_dot_to_dir_name(path):\n",
    "    if path == \".\" or path == \"./\":\n",
    "        path = os.getcwd()\n",
    "        # get base path\n",
    "        path = os.path.basename(path)\n",
    "    elif path == \"..\" or path == \"../\":\n",
    "        path = os.getcwd()\n",
    "        path = os.path.dirname(path)\n",
    "        path = os.path.basename(path)\n",
    "    return path\n",
    "\n",
    "\n",
    "def list_files(startpath):\n",
    "    output_string = \"\"\n",
    "\n",
    "    # Replace tilde with home directory\n",
    "    if startpath[0] == \"~\":\n",
    "        startpath = os.path.expanduser(startpath)\n",
    "\n",
    "    fullpath = os.path.abspath(startpath)\n",
    "\n",
    "    # Turn dot into current directory\n",
    "    if startpath in [\".\", \"./\", \"..\", \"../\"]:\n",
    "        startpath = convert_dot_to_dir_name(startpath)\n",
    "\n",
    "    # Add trailing slash if not present\n",
    "    if startpath[-1] != \"/\":\n",
    "        startpath += \"/\"\n",
    "\n",
    "    # Print directory name\n",
    "    output_string += startpath + \"\\n\"\n",
    "\n",
    "    subcontents = os.listdir(fullpath)\n",
    "\n",
    "    files = [c for c in subcontents if os.path.isfile(fullpath + os.sep + c)]\n",
    "    dirs = [c for c in subcontents if os.path.isdir(fullpath + os.sep + c)]\n",
    "\n",
    "    # Print top-level files and directories, sorted\n",
    "    for f in sorted(files):\n",
    "        # Add first level of indentation\n",
    "        output_string += \"    \" + f + \"\\n\"\n",
    "\n",
    "    for d in sorted(dirs):\n",
    "        # Add first level of indentation\n",
    "        output_string += \"    \" + d + \"/\\n\"\n",
    "\n",
    "        # Get contents of subdirectory\n",
    "        subcontents = os.listdir(fullpath + os.sep + d)\n",
    "\n",
    "        # Get files and directories\n",
    "        files = [\n",
    "            c for c in subcontents if os.path.isfile(fullpath + os.sep + d + os.sep + c)\n",
    "        ]\n",
    "        dirs = [\n",
    "            c for c in subcontents if os.path.isdir(fullpath + os.sep + d + os.sep + c)\n",
    "        ]\n",
    "\n",
    "        # Print files and directories, sorted\n",
    "        for f in sorted(files):\n",
    "            # Add second level of indentation\n",
    "            output_string += \"        \" + f + \"\\n\"\n",
    "\n",
    "        for d in sorted(dirs):\n",
    "            output_string += \"        \" + d + \"/\\n\"\n",
    "\n",
    "    # Remove final newline\n",
    "    output_string = output_string[:-1]\n",
    "    # Copy to clipboard\n",
    "    pyperclip.copy(output_string)\n",
    "\n",
    "    print(output_string)\n",
    "\n",
    "    return output_string"
   ]
  },
  {
   "cell_type": "code",
   "execution_count": 11,
   "metadata": {},
   "outputs": [
    {
     "data": {
      "text/plain": [
       "'2.5e+02'"
      ]
     },
     "execution_count": 11,
     "metadata": {},
     "output_type": "execute_result"
    }
   ],
   "source": [
    "a = 3.2e09\n",
    "b = 1.3e07\n",
    "f\"{a/b:.1e}\""
   ]
  }
 ],
 "metadata": {
  "kernelspec": {
   "display_name": ".venv",
   "language": "python",
   "name": "python3"
  },
  "language_info": {
   "codemirror_mode": {
    "name": "ipython",
    "version": 3
   },
   "file_extension": ".py",
   "mimetype": "text/x-python",
   "name": "python",
   "nbconvert_exporter": "python",
   "pygments_lexer": "ipython3",
   "version": "3.11.4"
  },
  "orig_nbformat": 4
 },
 "nbformat": 4,
 "nbformat_minor": 2
}

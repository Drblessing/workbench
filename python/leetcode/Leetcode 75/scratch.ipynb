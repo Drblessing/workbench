{
 "cells": [
  {
   "cell_type": "code",
   "execution_count": 1,
   "metadata": {},
   "outputs": [
    {
     "data": {
      "text/plain": [
       "({'a', 'b', 'c'},\n",
       " {'a': 3, 'b': 3, 'c': 3},\n",
       " Counter({'a': 3, 'b': 3, 'c': 3}),\n",
       " Counter({'a': 3, 'b': 3, 'c': 3}))"
      ]
     },
     "execution_count": 1,
     "metadata": {},
     "output_type": "execute_result"
    }
   ],
   "source": [
    "from collections import Counter\n",
    "\n",
    "# New comparion operators\n",
    "c1 = Counter(a=3, b=3, c=3)\n",
    "c2 = Counter(a=1, b=2, c=3)\n",
    "# c1.total() c1.clear(),\n",
    "set(c1), dict(c1), +c1, c1"
   ]
  },
  {
   "cell_type": "code",
   "execution_count": 9,
   "metadata": {},
   "outputs": [
    {
     "data": {
      "text/plain": [
       "6"
      ]
     },
     "execution_count": 9,
     "metadata": {},
     "output_type": "execute_result"
    }
   ],
   "source": [
    "test = 6\n",
    "test -= \"z\" in [\"a\", \"e\"]\n",
    "test"
   ]
  },
  {
   "cell_type": "code",
   "execution_count": 74,
   "metadata": {},
   "outputs": [
    {
     "name": "stdout",
     "output_type": "stream",
     "text": [
      "animal [('animal', 'bear'), ('animal', 'duck')]\n",
      "plant [('plant', 'cactus')]\n",
      "vehicle [('vehicle', 'speed boat'), ('vehicle', 'school bus')]\n"
     ]
    }
   ],
   "source": [
    "# groupby examples\n",
    "from itertools import groupby\n",
    "from operator import itemgetter\n",
    "\n",
    "things = [\n",
    "    (\"animal\", \"bear\"),\n",
    "    (\"animal\", \"duck\"),\n",
    "    (\"plant\", \"cactus\"),\n",
    "    (\"vehicle\", \"speed boat\"),\n",
    "    (\"vehicle\", \"school bus\"),\n",
    "]\n",
    "\n",
    "for key, group in groupby(things, itemgetter(0)):\n",
    "    print(key, list(group))"
   ]
  },
  {
   "cell_type": "code",
   "execution_count": 90,
   "metadata": {},
   "outputs": [
    {
     "data": {
      "text/plain": [
       "181"
      ]
     },
     "execution_count": 90,
     "metadata": {},
     "output_type": "execute_result"
    }
   ],
   "source": [
    "import secrets\n",
    "\n",
    "# secure random number generator\n",
    "secrets.randbelow(10)\n",
    "secrets.randbits(10)"
   ]
  },
  {
   "cell_type": "code",
   "execution_count": 28,
   "metadata": {},
   "outputs": [
    {
     "name": "stdout",
     "output_type": "stream",
     "text": [
      "[False, True, True, False, False, False, True, False, False, True, False, True]\n",
      "[1, 0, 3, 2, 1]\n"
     ]
    }
   ],
   "source": [
    "from itertools import accumulate, compress, chain, starmap, pairwise\n",
    "from operator import add, not_\n",
    "\n",
    "# copy\n",
    "# copy.copy(x)\n",
    "from copy import deepcopy\n",
    "\n",
    "\n",
    "def longestSubarrayFunc(nums: list[int]) -> int:\n",
    "    streaks_of_1s = accumulate(nums, lambda a, x: (a + 1) * (x != 0), initial=0)\n",
    "    streaks_at_0 = compress(streaks_of_1s, map(not_, chain(nums, (0,))))\n",
    "    return max(starmap(add, pairwise(streaks_at_0)), default=len(nums) - 1)\n",
    "\n",
    "\n",
    "nums = [1, 0, 0, 1, 1, 1, 0, 1, 1, 0, 1, 0]\n",
    "\n",
    "\n",
    "# Streaks of ones\n",
    "accumulate_ones = accumulate(nums, lambda a, b: (a + 1) * (b != 0), initial=0)\n",
    "copy_ac_ones = deepcopy(accumulate_ones)\n",
    "chain_nums = chain(nums)\n",
    "chain_nums = list(chain_nums)\n",
    "maps = map(lambda x: not x, chain_nums)\n",
    "maps = list(maps)\n",
    "print(maps)\n",
    "\n",
    "# Compress example code\n",
    "# Example\n",
    "# compress('ABCDEF', [1,0,1,0,1,1]) --> A C E F\n",
    "streaks_at_0 = compress(accumulate_ones, maps)\n",
    "streaks_at_0 = list(streaks_at_0)\n",
    "print(streaks_at_0)"
   ]
  },
  {
   "cell_type": "code",
   "execution_count": 33,
   "metadata": {},
   "outputs": [
    {
     "data": {
      "text/plain": [
       "([],\n",
       " [False,\n",
       "  True,\n",
       "  True,\n",
       "  False,\n",
       "  False,\n",
       "  False,\n",
       "  True,\n",
       "  False,\n",
       "  False,\n",
       "  True,\n",
       "  False,\n",
       "  True])"
      ]
     },
     "execution_count": 33,
     "metadata": {},
     "output_type": "execute_result"
    }
   ],
   "source": [
    "list(copy_ac_ones), maps"
   ]
  }
 ],
 "metadata": {
  "kernelspec": {
   "display_name": ".venv",
   "language": "python",
   "name": "python3"
  },
  "language_info": {
   "codemirror_mode": {
    "name": "ipython",
    "version": 3
   },
   "file_extension": ".py",
   "mimetype": "text/x-python",
   "name": "python",
   "nbconvert_exporter": "python",
   "pygments_lexer": "ipython3",
   "version": "3.12.1"
  }
 },
 "nbformat": 4,
 "nbformat_minor": 2
}

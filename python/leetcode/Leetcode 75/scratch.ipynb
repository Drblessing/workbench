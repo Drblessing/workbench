{
 "cells": [
  {
   "cell_type": "code",
   "execution_count": 72,
   "metadata": {},
   "outputs": [
    {
     "data": {
      "text/plain": [
       "({'a', 'b', 'c'},\n",
       " {'a': 3, 'b': 3, 'c': 3},\n",
       " Counter({'a': 3, 'b': 3, 'c': 3}),\n",
       " Counter({'a': 3, 'b': 3, 'c': 3}))"
      ]
     },
     "execution_count": 72,
     "metadata": {},
     "output_type": "execute_result"
    }
   ],
   "source": [
    "from collections import Counter\n",
    "\n",
    "# New comparion operators\n",
    "c1 = Counter(a=3, b=3, c=3)\n",
    "c2 = Counter(a=1, b=2, c=3)\n",
    "# c1.total() c1.clear(),\n",
    "set(c1), dict(c1), +c1, c1"
   ]
  },
  {
   "cell_type": "code",
   "execution_count": 62,
   "metadata": {},
   "outputs": [
    {
     "data": {
      "text/plain": [
       "<bound method Counter.total of Counter({'a': 3, 'b': 3, 'c': 3})>"
      ]
     },
     "execution_count": 62,
     "metadata": {},
     "output_type": "execute_result"
    }
   ],
   "source": [
    "c1.total(),"
   ]
  },
  {
   "cell_type": "code",
   "execution_count": 74,
   "metadata": {},
   "outputs": [
    {
     "name": "stdout",
     "output_type": "stream",
     "text": [
      "animal [('animal', 'bear'), ('animal', 'duck')]\n",
      "plant [('plant', 'cactus')]\n",
      "vehicle [('vehicle', 'speed boat'), ('vehicle', 'school bus')]\n"
     ]
    }
   ],
   "source": [
    "# groupby examples\n",
    "from itertools import groupby\n",
    "from operator import itemgetter\n",
    "\n",
    "things = [\n",
    "    (\"animal\", \"bear\"),\n",
    "    (\"animal\", \"duck\"),\n",
    "    (\"plant\", \"cactus\"),\n",
    "    (\"vehicle\", \"speed boat\"),\n",
    "    (\"vehicle\", \"school bus\"),\n",
    "]\n",
    "\n",
    "for key, group in groupby(things, itemgetter(0)):\n",
    "    print(key, list(group))"
   ]
  },
  {
   "cell_type": "code",
   "execution_count": 90,
   "metadata": {},
   "outputs": [
    {
     "data": {
      "text/plain": [
       "181"
      ]
     },
     "execution_count": 90,
     "metadata": {},
     "output_type": "execute_result"
    }
   ],
   "source": [
    "import secrets\n",
    "\n",
    "# secure random number generator\n",
    "secrets.randbelow(10)\n",
    "secrets.randbits(10)"
   ]
  }
 ],
 "metadata": {
  "kernelspec": {
   "display_name": ".venv",
   "language": "python",
   "name": "python3"
  },
  "language_info": {
   "codemirror_mode": {
    "name": "ipython",
    "version": 3
   },
   "file_extension": ".py",
   "mimetype": "text/x-python",
   "name": "python",
   "nbconvert_exporter": "python",
   "pygments_lexer": "ipython3",
   "version": "3.12.1"
  }
 },
 "nbformat": 4,
 "nbformat_minor": 2
}

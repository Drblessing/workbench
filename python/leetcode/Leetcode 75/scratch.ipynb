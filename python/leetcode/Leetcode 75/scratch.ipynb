{
 "cells": [
  {
   "cell_type": "code",
   "execution_count": 1,
   "metadata": {},
   "outputs": [
    {
     "data": {
      "text/plain": [
       "({'a', 'b', 'c'},\n",
       " {'a': 3, 'b': 3, 'c': 3},\n",
       " Counter({'a': 3, 'b': 3, 'c': 3}),\n",
       " Counter({'a': 3, 'b': 3, 'c': 3}))"
      ]
     },
     "execution_count": 1,
     "metadata": {},
     "output_type": "execute_result"
    }
   ],
   "source": [
    "from collections import Counter\n",
    "\n",
    "# New comparion operators\n",
    "c1 = Counter(a=3, b=3, c=3)\n",
    "c2 = Counter(a=1, b=2, c=3)\n",
    "# c1.total() c1.clear(),\n",
    "set(c1), dict(c1), +c1, c1"
   ]
  },
  {
   "cell_type": "code",
   "execution_count": 2,
   "metadata": {},
   "outputs": [
    {
     "data": {
      "text/plain": [
       "6"
      ]
     },
     "execution_count": 2,
     "metadata": {},
     "output_type": "execute_result"
    }
   ],
   "source": [
    "test = 6\n",
    "test -= \"z\" in [\"a\", \"e\"]\n",
    "test"
   ]
  },
  {
   "cell_type": "code",
   "execution_count": 74,
   "metadata": {},
   "outputs": [
    {
     "name": "stdout",
     "output_type": "stream",
     "text": [
      "animal [('animal', 'bear'), ('animal', 'duck')]\n",
      "plant [('plant', 'cactus')]\n",
      "vehicle [('vehicle', 'speed boat'), ('vehicle', 'school bus')]\n"
     ]
    }
   ],
   "source": [
    "# groupby examples\n",
    "from itertools import groupby\n",
    "from operator import itemgetter\n",
    "\n",
    "things = [\n",
    "    (\"animal\", \"bear\"),\n",
    "    (\"animal\", \"duck\"),\n",
    "    (\"plant\", \"cactus\"),\n",
    "    (\"vehicle\", \"speed boat\"),\n",
    "    (\"vehicle\", \"school bus\"),\n",
    "]\n",
    "\n",
    "for key, group in groupby(things, itemgetter(0)):\n",
    "    print(key, list(group))"
   ]
  },
  {
   "cell_type": "code",
   "execution_count": 90,
   "metadata": {},
   "outputs": [
    {
     "data": {
      "text/plain": [
       "181"
      ]
     },
     "execution_count": 90,
     "metadata": {},
     "output_type": "execute_result"
    }
   ],
   "source": [
    "import secrets\n",
    "\n",
    "# secure random number generator\n",
    "secrets.randbelow(10)\n",
    "secrets.randbits(10)"
   ]
  },
  {
   "cell_type": "code",
   "execution_count": 28,
   "metadata": {},
   "outputs": [
    {
     "name": "stdout",
     "output_type": "stream",
     "text": [
      "[False, True, True, False, False, False, True, False, False, True, False, True]\n",
      "[1, 0, 3, 2, 1]\n"
     ]
    }
   ],
   "source": [
    "from itertools import accumulate, compress, chain, starmap, pairwise\n",
    "from operator import add, not_\n",
    "\n",
    "# copy\n",
    "# copy.copy(x)\n",
    "from copy import deepcopy\n",
    "\n",
    "\n",
    "def longestSubarrayFunc(nums: list[int]) -> int:\n",
    "    streaks_of_1s = accumulate(nums, lambda a, x: (a + 1) * (x != 0), initial=0)\n",
    "    streaks_at_0 = compress(streaks_of_1s, map(not_, chain(nums, (0,))))\n",
    "    return max(starmap(add, pairwise(streaks_at_0)), default=len(nums) - 1)\n",
    "\n",
    "\n",
    "nums = [1, 0, 0, 1, 1, 1, 0, 1, 1, 0, 1, 0]\n",
    "\n",
    "\n",
    "# Streaks of ones\n",
    "accumulate_ones = accumulate(nums, lambda a, b: (a + 1) * (b != 0), initial=0)\n",
    "copy_ac_ones = deepcopy(accumulate_ones)\n",
    "chain_nums = chain(nums)\n",
    "chain_nums = list(chain_nums)\n",
    "maps = map(lambda x: not x, chain_nums)\n",
    "maps = list(maps)\n",
    "print(maps)\n",
    "\n",
    "# Compress example code\n",
    "# Example\n",
    "# compress('ABCDEF', [1,0,1,0,1,1]) --> A C E F\n",
    "streaks_at_0 = compress(accumulate_ones, maps)\n",
    "streaks_at_0 = list(streaks_at_0)\n",
    "print(streaks_at_0)"
   ]
  },
  {
   "cell_type": "code",
   "execution_count": 33,
   "metadata": {},
   "outputs": [
    {
     "data": {
      "text/plain": [
       "([],\n",
       " [False,\n",
       "  True,\n",
       "  True,\n",
       "  False,\n",
       "  False,\n",
       "  False,\n",
       "  True,\n",
       "  False,\n",
       "  False,\n",
       "  True,\n",
       "  False,\n",
       "  True])"
      ]
     },
     "execution_count": 33,
     "metadata": {},
     "output_type": "execute_result"
    }
   ],
   "source": [
    "list(copy_ac_ones), maps"
   ]
  },
  {
   "cell_type": "code",
   "execution_count": 1,
   "metadata": {},
   "outputs": [
    {
     "name": "stdout",
     "output_type": "stream",
     "text": [
      "\n",
      "# # # # # # # # # # # # # # # # # # # # "
     ]
    }
   ],
   "source": [
    "triangle_char = \"#\"\n",
    "triangle_height = 10\n",
    "print(\"\")\n",
    "\n",
    "pyr = 0\n",
    "while pyr <= triangle_height:\n",
    "    for i in range(triangle_height):\n",
    "        print(triangle_char, end=\" \")\n",
    "        pyr += 1"
   ]
  },
  {
   "cell_type": "code",
   "execution_count": 2,
   "metadata": {},
   "outputs": [
    {
     "name": "stdout",
     "output_type": "stream",
     "text": [
      "% \n",
      "% % \n",
      "% % % \n",
      "% % % % \n",
      "% % % % % \n"
     ]
    }
   ],
   "source": [
    "def draw_triangle(triangle_height, triangle_char):\n",
    "    for i in range(1, triangle_height + 1):\n",
    "        print((triangle_char + \" \") * i)\n",
    "\n",
    "\n",
    "# Example usage\n",
    "triangle_height = 5  # replace with user input for height\n",
    "triangle_char = \"%\"  # replace with user input for character\n",
    "draw_triangle(triangle_height, triangle_char)"
   ]
  },
  {
   "cell_type": "code",
   "execution_count": 14,
   "metadata": {},
   "outputs": [
    {
     "name": "stdout",
     "output_type": "stream",
     "text": [
      "\n",
      "\n",
      "1\n",
      "\n",
      "1\n",
      "2\n",
      "\n",
      "1\n",
      "2\n",
      "3\n",
      "\n",
      "1\n",
      "2\n",
      "3\n",
      "4\n",
      "5 4\n"
     ]
    }
   ],
   "source": [
    "end_num = 5\n",
    "\n",
    "for i in range(1, end_num + 1):\n",
    "    print()\n",
    "    # First for loop\n",
    "    # i will equal 1, then 2, then 3, ... etc\n",
    "\n",
    "    # Now, we iterate a second time, with the cap this\n",
    "    # time being the variable i\n",
    "    for j in range(1, i):\n",
    "        # This \"nested\" for loop will have a range between 1, and i\n",
    "        print(j)\n",
    "\n",
    "        # 1st loop:\n",
    "        # for j in range(1,1):\n",
    "        # range(1,1) = None, so nothing will happen\n",
    "\n",
    "        # 2nd loop\n",
    "        # for j in range(1,2):\n",
    "        # range(1,2) -> [1]\n",
    "        # so we'll print 1\n",
    "\n",
    "        # 3rd loop\n",
    "        # for j in range(1,3):\n",
    "        # so we'll print 1\n",
    "        # then print 2\n",
    "\n",
    "        # etc.\n",
    "\n",
    "print(i, j)"
   ]
  },
  {
   "cell_type": "code",
   "execution_count": 18,
   "metadata": {},
   "outputs": [
    {
     "name": "stdout",
     "output_type": "stream",
     "text": [
      "Hello World Hello World Hello World \n",
      "Hello World Hello World Hello World Hello World Hello World Hello World Hello World Hello World Hello World \n",
      "Succesfully quit out of the while loop.\n"
     ]
    }
   ],
   "source": [
    "# Get user's first number\n",
    "user_number = int(input(\"Please enter a number between 1-9: \"))\n",
    "hello_world = \"Hello World \"\n",
    "\n",
    "while user_number != 10:\n",
    "    print(hello_world * user_number)\n",
    "    user_number = int(\n",
    "        input(\"Please enter again a number between 1-9. Enter 10 to quit: \")\n",
    "    )\n",
    "\n",
    "print(\"Succesfully quit out of the while loop.\")"
   ]
  },
  {
   "cell_type": "code",
   "execution_count": 20,
   "metadata": {},
   "outputs": [
    {
     "name": "stdout",
     "output_type": "stream",
     "text": [
      "Eating 3 apple keeps the doctor away.\n",
      "Eating 3 pear keeps the doctor away.\n",
      "Eating 3 pear keeps the doctor away.\n",
      "Eating 3 pear keeps the doctor away.\n",
      "Eating 3 pear keeps the doctor away.\n"
     ]
    }
   ],
   "source": [
    "# User inputs\n",
    "input_str = input(\"\")\n",
    "user_int = int(input(\"\"))\n",
    "\n",
    "# Determine if input entered is quit end program\n",
    "while input_str != \"quit\":\n",
    "    print(\"Eating\", user_int, input_str, \"keeps the doctor away.\")\n",
    "    input_str = input(\"\")"
   ]
  },
  {
   "cell_type": "code",
   "execution_count": 1,
   "metadata": {},
   "outputs": [
    {
     "data": {
      "text/plain": [
       "0"
      ]
     },
     "execution_count": 1,
     "metadata": {},
     "output_type": "execute_result"
    }
   ],
   "source": [
    "from collections import defaultdict\n",
    "\n",
    "# defaultdict example\n",
    "# Create a dictionary with default value of 0\n",
    "d = defaultdict(int)"
   ]
  },
  {
   "cell_type": "code",
   "execution_count": 2,
   "metadata": {},
   "outputs": [
    {
     "data": {
      "text/plain": [
       "{1}"
      ]
     },
     "execution_count": 2,
     "metadata": {},
     "output_type": "execute_result"
    }
   ],
   "source": [
    "set([1, 2, 3]) - set([2, 3, 3])"
   ]
  }
 ],
 "metadata": {
  "kernelspec": {
   "display_name": ".venv",
   "language": "python",
   "name": "python3"
  },
  "language_info": {
   "codemirror_mode": {
    "name": "ipython",
    "version": 3
   },
   "file_extension": ".py",
   "mimetype": "text/x-python",
   "name": "python",
   "nbconvert_exporter": "python",
   "pygments_lexer": "ipython3",
   "version": "3.12.1"
  }
 },
 "nbformat": 4,
 "nbformat_minor": 2
}

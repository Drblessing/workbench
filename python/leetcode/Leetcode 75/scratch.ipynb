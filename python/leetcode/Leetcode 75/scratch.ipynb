{
 "cells": [
  {
   "cell_type": "code",
   "execution_count": 1,
   "metadata": {},
   "outputs": [],
   "source": [
    "import bisect\n",
    "\n",
    "ls = [1, 3, 5, 6]\n",
    "last_pos = 0\n",
    "\n",
    "\n",
    "idx = bisect.bisect_left(ls, last_pos + 1)"
   ]
  },
  {
   "cell_type": "code",
   "execution_count": 8,
   "metadata": {},
   "outputs": [
    {
     "name": "stdout",
     "output_type": "stream",
     "text": [
      "7\n",
      "[2, 4, 6, 8, 10, 12, 14, 15]\n"
     ]
    },
    {
     "data": {
      "text/plain": [
       "True"
      ]
     },
     "execution_count": 8,
     "metadata": {},
     "output_type": "execute_result"
    }
   ],
   "source": [
    "import bisect # import module\n",
    "\n",
    "a = [2, 4, 6, 8, 10, 12, 14] # list of integers in ascending order\n",
    "x = 15 # number to insert\n",
    "i = bisect.bisect_left(a, x) # call method\n",
    "print(i) # print on stdout the index where x value must be inserted\n",
    "\n",
    "a.insert(i, x) # insert x in the list\n",
    "print(a)\n",
    "\n",
    "bisect.bisect_right == bisect.bisect"
   ]
  }
 ],
 "metadata": {
  "kernelspec": {
   "display_name": ".venv",
   "language": "python",
   "name": "python3"
  },
  "language_info": {
   "codemirror_mode": {
    "name": "ipython",
    "version": 3
   },
   "file_extension": ".py",
   "mimetype": "text/x-python",
   "name": "python",
   "nbconvert_exporter": "python",
   "pygments_lexer": "ipython3",
   "version": "3.12.1"
  }
 },
 "nbformat": 4,
 "nbformat_minor": 2
}

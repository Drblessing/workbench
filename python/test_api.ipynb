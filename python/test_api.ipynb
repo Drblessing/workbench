{
 "cells": [
  {
   "cell_type": "code",
   "execution_count": 17,
   "metadata": {},
   "outputs": [],
   "source": [
    "# Test requests to the fastAPI pages_python_api_routes/\n",
    "import requests\n",
    "\n",
    "TEST_SERVER = \"http://localhost:3000\"\n",
    "\n",
    "\n",
    "# Get requests\n",
    "def test_get(route=\"/\"):\n",
    "    response = requests.get(TEST_SERVER + route)\n",
    "    response.raise_for_status()\n",
    "    assert response.status_code == 200\n",
    "    try:\n",
    "        return response.json()\n",
    "    except:\n",
    "        return response\n",
    "\n",
    "\n",
    "# Options requests\n",
    "def test_options(route=\"/\"):\n",
    "    response = requests.options(TEST_SERVER + route)\n",
    "    response.raise_for_status()\n",
    "    assert response.status_code == 200\n",
    "    return response.json()\n",
    "\n",
    "\n",
    "# Post\n",
    "def test_post(route=\"/\", body={}):\n",
    "    response = requests.post(TEST_SERVER + route, json=body)\n",
    "    response.raise_for_status()\n",
    "    assert response.status_code == 200\n",
    "    return response.json()"
   ]
  },
  {
   "cell_type": "code",
   "execution_count": 20,
   "metadata": {},
   "outputs": [
    {
     "name": "stdout",
     "output_type": "stream",
     "text": [
      "204\n"
     ]
    },
    {
     "ename": "AssertionError",
     "evalue": "",
     "output_type": "error",
     "traceback": [
      "\u001b[0;31m---------------------------------------------------------------------------\u001b[0m",
      "\u001b[0;31mAssertionError\u001b[0m                            Traceback (most recent call last)",
      "Cell \u001b[0;32mIn[20], line 1\u001b[0m\n\u001b[0;32m----> 1\u001b[0m test_options(\u001b[39m\"\u001b[39;49m\u001b[39m/login\u001b[39;49m\u001b[39m\"\u001b[39;49m)\n",
      "Cell \u001b[0;32mIn[17], line 23\u001b[0m, in \u001b[0;36mtest_options\u001b[0;34m(route)\u001b[0m\n\u001b[1;32m     21\u001b[0m response\u001b[39m.\u001b[39mraise_for_status()\n\u001b[1;32m     22\u001b[0m \u001b[39mprint\u001b[39m(response\u001b[39m.\u001b[39mstatus_code)\n\u001b[0;32m---> 23\u001b[0m \u001b[39massert\u001b[39;00m response\u001b[39m.\u001b[39mstatus_code \u001b[39m==\u001b[39m \u001b[39m200\u001b[39m\n\u001b[1;32m     24\u001b[0m \u001b[39mreturn\u001b[39;00m response\u001b[39m.\u001b[39mjson()\n",
      "\u001b[0;31mAssertionError\u001b[0m: "
     ]
    }
   ],
   "source": [
    "test_options(\"/login\")"
   ]
  },
  {
   "cell_type": "code",
   "execution_count": null,
   "metadata": {},
   "outputs": [],
   "source": []
  }
 ],
 "metadata": {
  "kernelspec": {
   "display_name": ".venv",
   "language": "python",
   "name": "python3"
  },
  "language_info": {
   "codemirror_mode": {
    "name": "ipython",
    "version": 3
   },
   "file_extension": ".py",
   "mimetype": "text/x-python",
   "name": "python",
   "nbconvert_exporter": "python",
   "pygments_lexer": "ipython3",
   "version": "3.11.4"
  },
  "orig_nbformat": 4
 },
 "nbformat": 4,
 "nbformat_minor": 2
}

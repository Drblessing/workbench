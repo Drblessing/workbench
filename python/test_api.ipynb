{
 "cells": [
  {
   "cell_type": "code",
   "execution_count": 127,
   "metadata": {},
   "outputs": [],
   "source": [
    "# Test requests to the fastAPI pages_python_api_routes/\n",
    "import requests\n",
    "\n",
    "TEST_SERVER = \"http://localhost:8000\"\n",
    "\n",
    "\n",
    "# Get requests\n",
    "def test_get(route=\"/\"):\n",
    "    response = requests.get(TEST_SERVER + route)\n",
    "    response.raise_for_status()\n",
    "    assert response.status_code == 200\n",
    "    try:\n",
    "        return response.json()\n",
    "    except:\n",
    "        return response\n",
    "\n",
    "\n",
    "# Options requests\n",
    "def test_options(route=\"/\"):\n",
    "    response = requests.options(TEST_SERVER + route)\n",
    "    response.raise_for_status()\n",
    "    assert response.status_code == 200\n",
    "    return response.json()\n",
    "\n",
    "\n",
    "# Post\n",
    "def test_post(route=\"/\", body={}):\n",
    "    response = requests.post(TEST_SERVER + route, json=body)\n",
    "    response.raise_for_status()\n",
    "    assert response.status_code == 200\n",
    "    return response.json()"
   ]
  },
  {
   "cell_type": "code",
   "execution_count": 129,
   "metadata": {},
   "outputs": [
    {
     "data": {
      "text/plain": [
       "{'message': 'No file sent'}"
      ]
     },
     "execution_count": 129,
     "metadata": {},
     "output_type": "execute_result"
    }
   ],
   "source": [
    "test_post(\"/files\")"
   ]
  }
 ],
 "metadata": {
  "kernelspec": {
   "display_name": ".venv",
   "language": "python",
   "name": "python3"
  },
  "language_info": {
   "codemirror_mode": {
    "name": "ipython",
    "version": 3
   },
   "file_extension": ".py",
   "mimetype": "text/x-python",
   "name": "python",
   "nbconvert_exporter": "python",
   "pygments_lexer": "ipython3",
   "version": "3.11.4"
  },
  "orig_nbformat": 4
 },
 "nbformat": 4,
 "nbformat_minor": 2
}

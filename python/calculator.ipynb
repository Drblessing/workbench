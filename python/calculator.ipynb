{
 "cells": [
  {
   "cell_type": "code",
   "execution_count": 3,
   "metadata": {},
   "outputs": [
    {
     "data": {
      "text/plain": [
       "[157.123375519501, 25.3766244804986]"
      ]
     },
     "execution_count": 3,
     "metadata": {},
     "output_type": "execute_result"
    }
   ],
   "source": [
    "import math\n",
    "import sympy as sp\n",
    "import numpy as np\n",
    "import scipy as sc\n",
    "from decimal import Decimal\n",
    "\n",
    "\n",
    "# 1. cos(7pi/4)cos(5pi/12) - sin(7pi/4)sin(5pi/12)\n",
    "expr = sp.cos(7 * sp.pi / 4) * sp.cos(5 * sp.pi / 12) - sp.sin(7 * sp.pi / 4) * sp.sin(\n",
    "    5 * sp.pi / 12\n",
    ")\n",
    "sp.simplify(expr)\n",
    "\n",
    "# 2. 5.2 = 1.5 cos(2pi/365 t) + 4.3\n",
    "t = sp.Symbol(\"t\")\n",
    "eqtn2 = sp.Eq(5.2, 1.5 * sp.cos(2 * sp.pi / 365 * t) + 4.3)\n",
    "sp.solve(eqtn2, t)\n",
    "\n",
    "# 3. cos(pi/3)\n",
    "sp.cos(sp.pi / 3), sp.cos(sp.pi / 2 - sp.pi / 3), sp.cos(sp.pi + sp.pi / 3), sp.cos(\n",
    "    2 * sp.pi - sp.pi / 3\n",
    "), sp.cos(sp.pi - sp.pi / 3)\n",
    "\n",
    "# 4. 13*sin(2x) - 3 = 3\n",
    "x = sp.Symbol(\"x\")\n",
    "eqtn4 = sp.Eq(13 * sp.sin(2 * x) - 3, 3)\n",
    "solutions = sp.solve(eqtn4, x)\n",
    "for sol in solutions:\n",
    "    sol.evalf()\n",
    "\n",
    "# 5. cos(330 degrees), sin(330 degrees)\n",
    "sp.cos(330 * sp.pi / 180), sp.sin(330 * sp.pi / 180)\n",
    "\n",
    "# 6. a = 900, A = 180 - 60 - 75 = 45, B = 75, b = ?\n",
    "b = 900 * sp.sin(75 * sp.pi / 180) / sp.sin(45 * sp.pi / 180)\n",
    "b.evalf()\n",
    "\n",
    "# 7. cos(pi/3)\n",
    "sp.cos(sp.pi / 3)\n",
    "\n",
    "# 8. arcsin(-0.71)\n",
    "math.degrees(sp.asin(-0.71))\n",
    "\n",
    "# 10. 750 = 52*sin(2pi/365 t) + 728\n",
    "t = sp.Symbol(\"t\")\n",
    "eqtn10 = sp.Eq(750, 52 * sp.sin(2 * sp.pi / 365 * t) + 728)\n",
    "sp.solve(eqtn10, t)\n",
    "[sol.evalf() for sol in sp.solve(eqtn10, t)]"
   ]
  },
  {
   "cell_type": "code",
   "execution_count": 2,
   "metadata": {},
   "outputs": [
    {
     "data": {
      "text/latex": [
       "$\\displaystyle 2 \\sqrt{26}$"
      ],
      "text/plain": [
       "2*sqrt(26)"
      ]
     },
     "execution_count": 2,
     "metadata": {},
     "output_type": "execute_result"
    }
   ],
   "source": [
    "# Comples Numbers\n",
    "# 1. z = 1 + i rad(3)\n",
    "z = 1 + sp.I * sp.sqrt(3)\n",
    "# Estimate z^4\n",
    "sp.expand(z**4).evalf()\n",
    "\n",
    "# 2. complex conjugate of 9 - 3i\n",
    "z = 9 - 3 * sp.I\n",
    "z.conjugate()\n",
    "\n",
    "# 3. z = 5(cos(15 degrees) + i sin(15 degrees))\n",
    "z = 5 * (sp.cos(15 * sp.pi / 180) + sp.I * sp.sin(15 * sp.pi / 180))\n",
    "z.evalf()\n",
    "\n",
    "# 4.  z = 4+3i, find angle z makes in complex plane between - pi and pi\n",
    "z = 4 + 3 * sp.I\n",
    "sp.arg(z).evalf()\n",
    "\n",
    "# 5. z = 24+0i in polar form\n",
    "z = 24 + 0 * sp.I\n",
    "sp.Abs(z), sp.arg(z).evalf()\n",
    "\n",
    "# 6. average of z1 = 11 + 3i, z2 = (-5 + 9i)\n",
    "z1 = 11 + 3 * sp.I\n",
    "z2 = -5 + 9 * sp.I\n",
    "(z1 + z2) / 2\n",
    "\n",
    "# 7. z1 has magnitude 12 and angle 45 degrees, express z1 in rectangular form\n",
    "\n",
    "z1 = 12 * (sp.cos(45 * sp.pi / 180) + sp.I * sp.sin(45 * sp.pi / 180))\n",
    "z1\n",
    "\n",
    "# 8. Write x^4 - 36 as product of linear factors\n",
    "x = sp.Symbol(\"x\")\n",
    "x_1 = sp.factor(x**4 - 36)\n",
    "# factor again\n",
    "x_2 = sp.factor(x_1)\n",
    "# Get first factor\n",
    "f1 = x_2.args[0]\n",
    "# Get second factor\n",
    "f2 = x_2.args[1]\n",
    "# factor again\n",
    "f1 = sp.factor(f1)\n",
    "f2 = sp.factor(f2)\n",
    "f1\n",
    "\n",
    "# 9. z is in thrid quadrant, z = 3(cos(210 degrees) + i sin(210 degrees))\n",
    "z = 3 * (sp.cos(220 * sp.pi / 180) + sp.I * sp.sin(210 * sp.pi / 180))\n",
    "# multiply b -rad(3) + i\n",
    "z_new = z * (-sp.sqrt(3) + sp.I)\n",
    "# write z_new in rectangular form\n",
    "z_new.evalf()\n",
    "\n",
    "# 10. z1 = -1 + 8i, z2 = -3 - 2i\n",
    "z1 = -1 + 8 * sp.I\n",
    "z2 = -3 - 2 * sp.I\n",
    "# Distance\n",
    "sp.Abs(z1 - z2)"
   ]
  }
 ],
 "metadata": {
  "kernelspec": {
   "display_name": ".venv",
   "language": "python",
   "name": "python3"
  },
  "language_info": {
   "codemirror_mode": {
    "name": "ipython",
    "version": 3
   },
   "file_extension": ".py",
   "mimetype": "text/x-python",
   "name": "python",
   "nbconvert_exporter": "python",
   "pygments_lexer": "ipython3",
   "version": "3.13.0"
  }
 },
 "nbformat": 4,
 "nbformat_minor": 2
}
